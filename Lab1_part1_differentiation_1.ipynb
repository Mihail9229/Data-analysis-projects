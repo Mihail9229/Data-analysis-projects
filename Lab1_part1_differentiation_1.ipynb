{
 "cells": [
  {
   "cell_type": "markdown",
   "metadata": {
    "id": "kxfBX8IPt821"
   },
   "source": [
    "*Credits: materials from this notebook belong to YSDA [Practical DL](https://github.com/yandexdataschool/Practical_DL) course. Special thanks for making them available online.*"
   ]
  },
  {
   "cell_type": "markdown",
   "metadata": {
    "id": "kICjvEtat824"
   },
   "source": [
    "# Lab assignment №1, part 1\n",
    "\n",
    "This lab assignment consists of several parts. You are supposed to make some transformations, train some models, estimate the quality of the models and explain your results.\n",
    "\n",
    "Several comments:\n",
    "* Don't hesitate to ask questions, it's a good practice.\n",
    "* No private/public sharing, please. The copied assignments will be graded with 0 points.\n",
    "* Blocks of this lab will be graded separately."
   ]
  },
  {
   "cell_type": "markdown",
   "metadata": {
    "id": "ez-131wZt825"
   },
   "source": [
    "## Part 1. Matrix differentiation"
   ]
  },
  {
   "cell_type": "markdown",
   "metadata": {
    "id": "aR55gmcCt826"
   },
   "source": [
    "Since it easy to google every task please please please try to undestand what's going on. The \"just answer\" thing will be not counted, make sure to present derivation of your solution. It is absolutely OK if you found an answer on web then just exercise in $\\LaTeX$ copying it into here."
   ]
  },
  {
   "cell_type": "code",
   "execution_count": null,
   "metadata": {
    "id": "AQObd6yut827"
   },
   "outputs": [],
   "source": [
    "# If on colab, uncomment the following lines\n",
    "\n",
    "! wget https://raw.githubusercontent.com/girafe-ai/ml-mipt/basic_f21/homeworks_basic/Lab1_ML_pipeline_and_SVM/grad.png"
   ]
  },
  {
   "cell_type": "markdown",
   "metadata": {
    "id": "Yr2WLgMCt829"
   },
   "source": [
    "Useful links: \n",
    "[1](http://www.machinelearning.ru/wiki/images/2/2a/Matrix-Gauss.pdf)\n",
    "[2](http://www.atmos.washington.edu/~dennis/MatrixCalculus.pdf)\n",
    "[3](http://research.microsoft.com/en-us/um/people/cmbishop/prml/index.htm)"
   ]
  },
  {
   "cell_type": "markdown",
   "metadata": {
    "id": "d5Yeyf5Ut82-"
   },
   "source": [
    "## ex. 1"
   ]
  },
  {
   "cell_type": "markdown",
   "metadata": {
    "id": "-XamUptqt82_"
   },
   "source": [
    "$$  \n",
    "y = x^Tx,  \\quad x \\in \\mathbb{R}^N \n",
    "$$"
   ]
  },
  {
   "cell_type": "markdown",
   "metadata": {
    "id": "4eQGSkgrt82_"
   },
   "source": [
    "$$\n",
    "\\frac{dy}{dx} = 2x\n",
    "$$ "
   ]
  },
  {
   "cell_type": "markdown",
   "metadata": {
    "id": "KWW9a5GP-QYh"
   },
   "source": [
    "Решение\n",
    "\n",
    "$x^Tx = \\sum_{i=1}^{N}x_{i}^2$. Соответственно на $k$ месте будет стоять производная этой суммы по $x_k$, а она равна $2x_k$. В итоге получим вектор $x = (2x_1, ... ,2x_N)^T.$"
   ]
  },
  {
   "cell_type": "markdown",
   "metadata": {
    "id": "tWppm3TYt83B"
   },
   "source": [
    "## ex. 2"
   ]
  },
  {
   "cell_type": "markdown",
   "metadata": {
    "id": "mNeicEJ9t83B"
   },
   "source": [
    "$$ y = tr(AB) \\quad A,B \\in \\mathbb{R}^{N \\times N} $$ "
   ]
  },
  {
   "cell_type": "markdown",
   "metadata": {
    "id": "KsQuzUiZt83B"
   },
   "source": [
    "$$\n",
    "\\frac{dy}{dA} = B^T\n",
    "$$"
   ]
  },
  {
   "cell_type": "markdown",
   "metadata": {
    "id": "gKjZqZ1tR8EO"
   },
   "source": [
    "Решение\n",
    "\n",
    "$(AB)_{ij} = \\sum_{i=1}^{N}\\sum_{k=1}^{N}a_{ik}b_{kj}$. Тогда дифференцируя эту штуку, получим, что на $(i,j)$ месте в производной (а это матрица) будет стоять $b_{ji}$. То есть $(\\frac{dy}{dA})^T = B$. "
   ]
  },
  {
   "cell_type": "markdown",
   "metadata": {
    "id": "J9Zcb4i_t83C"
   },
   "source": [
    "## ex. 3"
   ]
  },
  {
   "cell_type": "markdown",
   "metadata": {
    "id": "72fEA2jHt83C"
   },
   "source": [
    "$$  \n",
    "y = x^TAc , \\quad A\\in \\mathbb{R}^{N \\times N}, x\\in \\mathbb{R}^{N}, c\\in \\mathbb{R}^{N} \n",
    "$$"
   ]
  },
  {
   "cell_type": "markdown",
   "metadata": {
    "id": "1wifMngTt83C"
   },
   "source": [
    "$$\n",
    "\\frac{dy}{dx} = Ac\n",
    "$$"
   ]
  },
  {
   "cell_type": "markdown",
   "metadata": {
    "id": "G_ldYyEJt83D"
   },
   "source": [
    "$$\n",
    "\\frac{dy}{dA} = xc^T\n",
    "$$ "
   ]
  },
  {
   "cell_type": "markdown",
   "metadata": {
    "id": "ZujR5nS5TKJu"
   },
   "source": [
    "Решение\n",
    "\n",
    "$y = \\sum_{m=1}^{N}x_m\\sum_{k=1}^{N}a_{mk}c_{k}$. \n",
    "\n",
    "Тогда, если мы будем дифференцировать эту штуку по $x$, то на $i$ месте будет стоять $\\sum_{k=1}^{N}a_{ik}c_{k}$. То есть у нас получился вектор, где на $i$-ом месте стоит вот такая сумма, такой вектор очевидно получится, если перемножить матрицу $A$ и вектор $c$.\n",
    "\n",
    "А если мы будем дифференцировать $y$ по $A$, то у итоговой матрицы $(i,j)$ элемент будет просто $x_{i}c_{j}$. Такую матрицу можно получить перемножив вектора $x$ и строку $c^T$."
   ]
  },
  {
   "cell_type": "markdown",
   "metadata": {
    "id": "eZNVntqNt83D"
   },
   "source": [
    "Hint for the latter (one of the ways): use *ex. 2* result and the fact \n",
    "$$\n",
    "tr(ABC) = tr (CAB)\n",
    "$$"
   ]
  },
  {
   "cell_type": "markdown",
   "metadata": {
    "id": "KN60QaK9t83D"
   },
   "source": [
    "## ex. 4"
   ]
  },
  {
   "cell_type": "markdown",
   "metadata": {
    "id": "si6PszMAt83D"
   },
   "source": [
    "Classic matrix factorization example. Given matrix $X$ you need to find $A$, $S$ to approximate $X$. This can be done by simple gradient descent iteratively alternating $A$ and $S$ updates.\n",
    "$$\n",
    "J = || X - AS ||_F^2  , \\quad A\\in \\mathbb{R}^{N \\times R} , \\quad S\\in \\mathbb{R}^{R \\times M}\n",
    "$$\n",
    "$$\n",
    "\\frac{dJ}{dS} = 2A^T(AS - X)  \n",
    "$$\n",
    "\n",
    "You may use one of the following approaches:"
   ]
  },
  {
   "cell_type": "markdown",
   "metadata": {
    "id": "G_37ozMVE8fD"
   },
   "source": [
    "Решение\n",
    "\n",
    "Вообщем, я решил делать в лоб. $(X-AS)_{ij} = (x_{ij}-\\sum_{k=1}^{R}a_{ik}s_{kj})$. Соответственно, когда мы будем умножать $(X-AS)$ на $(X-AS)^T$, то получится, что на $(i,i)$ диагональном месте будет стоять $i$-ая строка $(X-AS)$ умножить на саму себя. Тогда J = $\\sum_{i=1}^{N}\\sum_{j=1}^{M}(x_{ij}-\\sum_{k=1}^{R}a_{ik}s_{kj})^2$. Тогда на $(u,v)$-ом месте в $\\frac{dJ}{dS}$ будет стоять производная этой суммы по $s_{uv}$. У меня получилось, что она равна $-2\\sum_{i=1}^{N}a_{iu}(x_{iv}-\\sum_{k=1}^{R}a_{ik}s_{kv})$. Легко привести это к матричному виду, его я указал в ответе."
   ]
  },
  {
   "cell_type": "markdown",
   "metadata": {
    "id": "S_oNYENat83E"
   },
   "source": [
    "#### First approach\n",
    "Using ex.2 and the fact:\n",
    "$$\n",
    "|| X ||_F^2 = tr(XX^T) \n",
    "$$ \n",
    "it is easy to derive gradients (you can find it in one of the refs). "
   ]
  },
  {
   "cell_type": "markdown",
   "metadata": {
    "id": "yO9gxjoMt83E"
   },
   "source": [
    "#### Second approach\n",
    "You can use *slightly different techniques* if they suits you. Take a look at this derivation:\n",
    "<img src=\"https://github.com/girafe-ai/ml-mipt/blob/21f_basic/homeworks_basic/Lab1_ML_pipeline_and_SVM/grad.png?raw=1\">\n",
    "(excerpt from [Handbook of blind source separation, Jutten, page 517](https://books.google.ru/books?id=PTbj03bYH6kC&printsec=frontcover&dq=Handbook+of+Blind+Source+Separation&hl=en&sa=X&ved=0ahUKEwi-q_apiJDLAhULvXIKHVXJDWcQ6AEIHDAA#v=onepage&q=Handbook%20of%20Blind%20Source%20Separation&f=false), open for better picture)."
   ]
  },
  {
   "cell_type": "markdown",
   "metadata": {
    "id": "YXJIG_01t83E"
   },
   "source": [
    "#### Third approach\n",
    "And finally we can use chain rule! \n",
    "let $ F = AS $ \n",
    "\n",
    "**Find**\n",
    "$$\n",
    "\\frac{dJ}{dF} =  \n",
    "$$ \n",
    "and \n",
    "$$\n",
    "\\frac{dF}{dS} =  \n",
    "$$ \n",
    "(the shape should be $ NM \\times RM )$.\n",
    "\n",
    "Now it is easy do get desired gradients:\n",
    "$$\n",
    "\\frac{dJ}{dS} =  \n",
    "$$ "
   ]
  },
  {
   "cell_type": "code",
   "execution_count": null,
   "metadata": {
    "collapsed": true,
    "id": "pJTZ7vHFt83F",
    "jupyter": {
     "outputs_hidden": true
    }
   },
   "outputs": [],
   "source": []
  }
 ],
 "metadata": {
  "colab": {
   "name": "Lab1_part1_differentiation.ipynb",
   "provenance": []
  },
  "kernelspec": {
   "display_name": "Python 3 (ipykernel)",
   "language": "python",
   "name": "python3"
  },
  "language_info": {
   "codemirror_mode": {
    "name": "ipython",
    "version": 3
   },
   "file_extension": ".py",
   "mimetype": "text/x-python",
   "name": "python",
   "nbconvert_exporter": "python",
   "pygments_lexer": "ipython3",
   "version": "3.9.12"
  }
 },
 "nbformat": 4,
 "nbformat_minor": 4
}
