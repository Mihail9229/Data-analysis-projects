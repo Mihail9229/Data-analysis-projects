{
  "nbformat": 4,
  "nbformat_minor": 0,
  "metadata": {
    "celltoolbar": "Create Assignment",
    "kernelspec": {
      "display_name": "Py3 research env",
      "language": "python",
      "name": "py3_research"
    },
    "language_info": {
      "codemirror_mode": {
        "name": "ipython",
        "version": 3
      },
      "file_extension": ".py",
      "mimetype": "text/x-python",
      "name": "python",
      "nbconvert_exporter": "python",
      "pygments_lexer": "ipython3",
      "version": "3.7.7"
    },
    "toc": {
      "base_numbering": 1,
      "nav_menu": {},
      "number_sections": false,
      "sideBar": true,
      "skip_h1_title": false,
      "title_cell": "Table of Contents",
      "title_sidebar": "Contents",
      "toc_cell": false,
      "toc_position": {},
      "toc_section_display": true,
      "toc_window_display": false
    },
    "colab": {
      "name": "Lab1_part2_ml_pipeline.ipynb",
      "provenance": [],
      "collapsed_sections": []
    }
  },
  "cells": [
    {
      "cell_type": "markdown",
      "metadata": {
        "id": "0ox16MwLuVyg"
      },
      "source": [
        "Шкарбаненко Михаил Б05-879."
      ]
    },
    {
      "cell_type": "markdown",
      "metadata": {
        "nbgrader": {
          "grade": false,
          "grade_id": "cell-86e0de040aac317a",
          "locked": true,
          "schema_version": 2,
          "solution": false
        },
        "id": "FFJy2BlGjbH_"
      },
      "source": [
        "# Lab assignment №1, part 2\n",
        "\n",
        "This lab assignment consists of several parts. You are supposed to make some transformations, train some models, estimate the quality of the models and explain your results.\n",
        "\n",
        "Several comments:\n",
        "* Don't hesitate to ask questions, it's a good practice.\n",
        "* No private/public sharing, please. The copied assignments will be graded with 0 points.\n",
        "* Blocks of this lab will be graded separately."
      ]
    },
    {
      "cell_type": "markdown",
      "metadata": {
        "id": "gp0WMweFjbIE"
      },
      "source": [
        "__*This is the second part of the assignment. First and third parts are waiting for you in the same directory.*__"
      ]
    },
    {
      "cell_type": "markdown",
      "metadata": {
        "nbgrader": {
          "grade": false,
          "grade_id": "cell-512ba712fc0fc065",
          "locked": true,
          "schema_version": 2,
          "solution": false
        },
        "id": "ymgGd1X3jbIF"
      },
      "source": [
        "## Part 2. Data preprocessing, model training and evaluation."
      ]
    },
    {
      "cell_type": "markdown",
      "metadata": {
        "nbgrader": {
          "grade": false,
          "grade_id": "cell-b656a4266174b009",
          "locked": true,
          "schema_version": 2,
          "solution": false
        },
        "id": "0GXxwi1zjbIF"
      },
      "source": [
        "### 1. Reading the data\n",
        "Today we work with the [dataset](https://archive.ics.uci.edu/ml/datasets/Statlog+%28Vehicle+Silhouettes%29), describing different cars for multiclass ($k=4$) classification problem. The data is available below."
      ]
    },
    {
      "cell_type": "code",
      "metadata": {
        "id": "fYrfptrEjbIF",
        "colab": {
          "base_uri": "https://localhost:8080/"
        },
        "outputId": "71d51031-6085-4cf9-9e40-d832fb123569"
      },
      "source": [
        "# If on colab, uncomment the following lines\n",
        "\n",
        "! wget https://raw.githubusercontent.com/girafe-ai/ml-mipt/basic_s21/homeworks_basic/Lab1_ML_pipeline_and_SVM/car_data.csv"
      ],
      "execution_count": null,
      "outputs": [
        {
          "output_type": "stream",
          "text": [
            "--2021-03-23 17:56:49--  https://raw.githubusercontent.com/girafe-ai/ml-mipt/basic_s21/homeworks_basic/Lab1_ML_pipeline_and_SVM/car_data.csv\n",
            "Resolving raw.githubusercontent.com (raw.githubusercontent.com)... 185.199.108.133, 185.199.109.133, 185.199.110.133, ...\n",
            "Connecting to raw.githubusercontent.com (raw.githubusercontent.com)|185.199.108.133|:443... connected.\n",
            "HTTP request sent, awaiting response... 200 OK\n",
            "Length: 58374 (57K) [text/plain]\n",
            "Saving to: ‘car_data.csv.1’\n",
            "\n",
            "\rcar_data.csv.1        0%[                    ]       0  --.-KB/s               \rcar_data.csv.1      100%[===================>]  57.01K  --.-KB/s    in 0.01s   \n",
            "\n",
            "2021-03-23 17:56:49 (4.84 MB/s) - ‘car_data.csv.1’ saved [58374/58374]\n",
            "\n"
          ],
          "name": "stdout"
        }
      ]
    },
    {
      "cell_type": "code",
      "metadata": {
        "nbgrader": {
          "grade": false,
          "grade_id": "cell-eebac6bfdf73d0bc",
          "locked": true,
          "schema_version": 2,
          "solution": false
        },
        "id": "K58AfgLfjbIG",
        "colab": {
          "base_uri": "https://localhost:8080/"
        },
        "outputId": "16f4a421-af36-4fe1-afbf-9344fbbf6fd3"
      },
      "source": [
        "import pandas as pd\n",
        "import numpy as np\n",
        "from sklearn.model_selection import train_test_split\n",
        "\n",
        "dataset = pd.read_csv('car_data.csv', delimiter=',', header=None).values\n",
        "data = dataset[:, :-1].astype(int)\n",
        "target = dataset[:, -1]\n",
        "\n",
        "print(data.shape, target.shape)\n",
        "\n",
        "X_train, X_test, y_train, y_test = train_test_split(data, target, test_size=0.35)\n",
        "print(X_train.shape, y_train.shape, X_test.shape, y_test.shape)"
      ],
      "execution_count": null,
      "outputs": [
        {
          "output_type": "stream",
          "text": [
            "(846, 19) (846,)\n",
            "(549, 19) (549,) (297, 19) (297,)\n"
          ],
          "name": "stdout"
        }
      ]
    },
    {
      "cell_type": "code",
      "metadata": {
        "colab": {
          "base_uri": "https://localhost:8080/",
          "height": 343
        },
        "id": "kbo5h8rgqMLg",
        "outputId": "1108bea5-453e-4ff6-cd63-3e639a647660"
      },
      "source": [
        "pd.read_csv('car_data.csv', delimiter=',', header=None).head(10)"
      ],
      "execution_count": null,
      "outputs": [
        {
          "output_type": "execute_result",
          "data": {
            "text/html": [
              "<div>\n",
              "<style scoped>\n",
              "    .dataframe tbody tr th:only-of-type {\n",
              "        vertical-align: middle;\n",
              "    }\n",
              "\n",
              "    .dataframe tbody tr th {\n",
              "        vertical-align: top;\n",
              "    }\n",
              "\n",
              "    .dataframe thead th {\n",
              "        text-align: right;\n",
              "    }\n",
              "</style>\n",
              "<table border=\"1\" class=\"dataframe\">\n",
              "  <thead>\n",
              "    <tr style=\"text-align: right;\">\n",
              "      <th></th>\n",
              "      <th>0</th>\n",
              "      <th>1</th>\n",
              "      <th>2</th>\n",
              "      <th>3</th>\n",
              "      <th>4</th>\n",
              "      <th>5</th>\n",
              "      <th>6</th>\n",
              "      <th>7</th>\n",
              "      <th>8</th>\n",
              "      <th>9</th>\n",
              "      <th>10</th>\n",
              "      <th>11</th>\n",
              "      <th>12</th>\n",
              "      <th>13</th>\n",
              "      <th>14</th>\n",
              "      <th>15</th>\n",
              "      <th>16</th>\n",
              "      <th>17</th>\n",
              "      <th>18</th>\n",
              "      <th>19</th>\n",
              "    </tr>\n",
              "  </thead>\n",
              "  <tbody>\n",
              "    <tr>\n",
              "      <th>0</th>\n",
              "      <td>0</td>\n",
              "      <td>95</td>\n",
              "      <td>48</td>\n",
              "      <td>83</td>\n",
              "      <td>178</td>\n",
              "      <td>72</td>\n",
              "      <td>10</td>\n",
              "      <td>162</td>\n",
              "      <td>42</td>\n",
              "      <td>20</td>\n",
              "      <td>159</td>\n",
              "      <td>176</td>\n",
              "      <td>379</td>\n",
              "      <td>184</td>\n",
              "      <td>70</td>\n",
              "      <td>6</td>\n",
              "      <td>16</td>\n",
              "      <td>187</td>\n",
              "      <td>197</td>\n",
              "      <td>van</td>\n",
              "    </tr>\n",
              "    <tr>\n",
              "      <th>1</th>\n",
              "      <td>1</td>\n",
              "      <td>91</td>\n",
              "      <td>41</td>\n",
              "      <td>84</td>\n",
              "      <td>141</td>\n",
              "      <td>57</td>\n",
              "      <td>9</td>\n",
              "      <td>149</td>\n",
              "      <td>45</td>\n",
              "      <td>19</td>\n",
              "      <td>143</td>\n",
              "      <td>170</td>\n",
              "      <td>330</td>\n",
              "      <td>158</td>\n",
              "      <td>72</td>\n",
              "      <td>9</td>\n",
              "      <td>14</td>\n",
              "      <td>189</td>\n",
              "      <td>199</td>\n",
              "      <td>van</td>\n",
              "    </tr>\n",
              "    <tr>\n",
              "      <th>2</th>\n",
              "      <td>2</td>\n",
              "      <td>104</td>\n",
              "      <td>50</td>\n",
              "      <td>106</td>\n",
              "      <td>209</td>\n",
              "      <td>66</td>\n",
              "      <td>10</td>\n",
              "      <td>207</td>\n",
              "      <td>32</td>\n",
              "      <td>23</td>\n",
              "      <td>158</td>\n",
              "      <td>223</td>\n",
              "      <td>635</td>\n",
              "      <td>220</td>\n",
              "      <td>73</td>\n",
              "      <td>14</td>\n",
              "      <td>9</td>\n",
              "      <td>188</td>\n",
              "      <td>196</td>\n",
              "      <td>saab</td>\n",
              "    </tr>\n",
              "    <tr>\n",
              "      <th>3</th>\n",
              "      <td>3</td>\n",
              "      <td>93</td>\n",
              "      <td>41</td>\n",
              "      <td>82</td>\n",
              "      <td>159</td>\n",
              "      <td>63</td>\n",
              "      <td>9</td>\n",
              "      <td>144</td>\n",
              "      <td>46</td>\n",
              "      <td>19</td>\n",
              "      <td>143</td>\n",
              "      <td>160</td>\n",
              "      <td>309</td>\n",
              "      <td>127</td>\n",
              "      <td>63</td>\n",
              "      <td>6</td>\n",
              "      <td>10</td>\n",
              "      <td>199</td>\n",
              "      <td>207</td>\n",
              "      <td>van</td>\n",
              "    </tr>\n",
              "    <tr>\n",
              "      <th>4</th>\n",
              "      <td>4</td>\n",
              "      <td>85</td>\n",
              "      <td>44</td>\n",
              "      <td>70</td>\n",
              "      <td>205</td>\n",
              "      <td>103</td>\n",
              "      <td>52</td>\n",
              "      <td>149</td>\n",
              "      <td>45</td>\n",
              "      <td>19</td>\n",
              "      <td>144</td>\n",
              "      <td>241</td>\n",
              "      <td>325</td>\n",
              "      <td>188</td>\n",
              "      <td>127</td>\n",
              "      <td>9</td>\n",
              "      <td>11</td>\n",
              "      <td>180</td>\n",
              "      <td>183</td>\n",
              "      <td>bus</td>\n",
              "    </tr>\n",
              "    <tr>\n",
              "      <th>5</th>\n",
              "      <td>5</td>\n",
              "      <td>107</td>\n",
              "      <td>57</td>\n",
              "      <td>106</td>\n",
              "      <td>172</td>\n",
              "      <td>50</td>\n",
              "      <td>6</td>\n",
              "      <td>255</td>\n",
              "      <td>26</td>\n",
              "      <td>28</td>\n",
              "      <td>169</td>\n",
              "      <td>280</td>\n",
              "      <td>957</td>\n",
              "      <td>264</td>\n",
              "      <td>85</td>\n",
              "      <td>5</td>\n",
              "      <td>9</td>\n",
              "      <td>181</td>\n",
              "      <td>183</td>\n",
              "      <td>bus</td>\n",
              "    </tr>\n",
              "    <tr>\n",
              "      <th>6</th>\n",
              "      <td>6</td>\n",
              "      <td>97</td>\n",
              "      <td>43</td>\n",
              "      <td>73</td>\n",
              "      <td>173</td>\n",
              "      <td>65</td>\n",
              "      <td>6</td>\n",
              "      <td>153</td>\n",
              "      <td>42</td>\n",
              "      <td>19</td>\n",
              "      <td>143</td>\n",
              "      <td>176</td>\n",
              "      <td>361</td>\n",
              "      <td>172</td>\n",
              "      <td>66</td>\n",
              "      <td>13</td>\n",
              "      <td>1</td>\n",
              "      <td>200</td>\n",
              "      <td>204</td>\n",
              "      <td>bus</td>\n",
              "    </tr>\n",
              "    <tr>\n",
              "      <th>7</th>\n",
              "      <td>7</td>\n",
              "      <td>90</td>\n",
              "      <td>43</td>\n",
              "      <td>66</td>\n",
              "      <td>157</td>\n",
              "      <td>65</td>\n",
              "      <td>9</td>\n",
              "      <td>137</td>\n",
              "      <td>48</td>\n",
              "      <td>18</td>\n",
              "      <td>146</td>\n",
              "      <td>162</td>\n",
              "      <td>281</td>\n",
              "      <td>164</td>\n",
              "      <td>67</td>\n",
              "      <td>3</td>\n",
              "      <td>3</td>\n",
              "      <td>193</td>\n",
              "      <td>202</td>\n",
              "      <td>van</td>\n",
              "    </tr>\n",
              "    <tr>\n",
              "      <th>8</th>\n",
              "      <td>8</td>\n",
              "      <td>86</td>\n",
              "      <td>34</td>\n",
              "      <td>62</td>\n",
              "      <td>140</td>\n",
              "      <td>61</td>\n",
              "      <td>7</td>\n",
              "      <td>122</td>\n",
              "      <td>54</td>\n",
              "      <td>17</td>\n",
              "      <td>127</td>\n",
              "      <td>141</td>\n",
              "      <td>223</td>\n",
              "      <td>112</td>\n",
              "      <td>64</td>\n",
              "      <td>2</td>\n",
              "      <td>14</td>\n",
              "      <td>200</td>\n",
              "      <td>208</td>\n",
              "      <td>van</td>\n",
              "    </tr>\n",
              "    <tr>\n",
              "      <th>9</th>\n",
              "      <td>9</td>\n",
              "      <td>93</td>\n",
              "      <td>44</td>\n",
              "      <td>98</td>\n",
              "      <td>197</td>\n",
              "      <td>62</td>\n",
              "      <td>11</td>\n",
              "      <td>183</td>\n",
              "      <td>36</td>\n",
              "      <td>22</td>\n",
              "      <td>146</td>\n",
              "      <td>202</td>\n",
              "      <td>505</td>\n",
              "      <td>152</td>\n",
              "      <td>64</td>\n",
              "      <td>4</td>\n",
              "      <td>14</td>\n",
              "      <td>195</td>\n",
              "      <td>204</td>\n",
              "      <td>saab</td>\n",
              "    </tr>\n",
              "  </tbody>\n",
              "</table>\n",
              "</div>"
            ],
            "text/plain": [
              "   0    1   2    3    4    5   6    7   ...   12   13   14  15  16   17   18    19\n",
              "0   0   95  48   83  178   72  10  162  ...  379  184   70   6  16  187  197   van\n",
              "1   1   91  41   84  141   57   9  149  ...  330  158   72   9  14  189  199   van\n",
              "2   2  104  50  106  209   66  10  207  ...  635  220   73  14   9  188  196  saab\n",
              "3   3   93  41   82  159   63   9  144  ...  309  127   63   6  10  199  207   van\n",
              "4   4   85  44   70  205  103  52  149  ...  325  188  127   9  11  180  183   bus\n",
              "5   5  107  57  106  172   50   6  255  ...  957  264   85   5   9  181  183   bus\n",
              "6   6   97  43   73  173   65   6  153  ...  361  172   66  13   1  200  204   bus\n",
              "7   7   90  43   66  157   65   9  137  ...  281  164   67   3   3  193  202   van\n",
              "8   8   86  34   62  140   61   7  122  ...  223  112   64   2  14  200  208   van\n",
              "9   9   93  44   98  197   62  11  183  ...  505  152   64   4  14  195  204  saab\n",
              "\n",
              "[10 rows x 20 columns]"
            ]
          },
          "metadata": {
            "tags": []
          },
          "execution_count": 3
        }
      ]
    },
    {
      "cell_type": "markdown",
      "metadata": {
        "nbgrader": {
          "grade": false,
          "grade_id": "cell-88b1a0f688568f2c",
          "locked": true,
          "schema_version": 2,
          "solution": false
        },
        "id": "Q3GAMj9KjbIH"
      },
      "source": [
        "To get some insights about the dataset, `pandas` might be used. The `train` part is transformed to `pd.DataFrame` below."
      ]
    },
    {
      "cell_type": "code",
      "metadata": {
        "id": "4j1nAitFjbIH",
        "colab": {
          "base_uri": "https://localhost:8080/",
          "height": 491
        },
        "outputId": "aa02ba81-13b7-4ae8-8443-8fb3eaf01705"
      },
      "source": [
        "X_train_pd = pd.DataFrame(X_train)\n",
        "\n",
        "# First 15 rows of our dataset.\n",
        "X_train_pd.head(15)"
      ],
      "execution_count": null,
      "outputs": [
        {
          "output_type": "execute_result",
          "data": {
            "text/html": [
              "<div>\n",
              "<style scoped>\n",
              "    .dataframe tbody tr th:only-of-type {\n",
              "        vertical-align: middle;\n",
              "    }\n",
              "\n",
              "    .dataframe tbody tr th {\n",
              "        vertical-align: top;\n",
              "    }\n",
              "\n",
              "    .dataframe thead th {\n",
              "        text-align: right;\n",
              "    }\n",
              "</style>\n",
              "<table border=\"1\" class=\"dataframe\">\n",
              "  <thead>\n",
              "    <tr style=\"text-align: right;\">\n",
              "      <th></th>\n",
              "      <th>0</th>\n",
              "      <th>1</th>\n",
              "      <th>2</th>\n",
              "      <th>3</th>\n",
              "      <th>4</th>\n",
              "      <th>5</th>\n",
              "      <th>6</th>\n",
              "      <th>7</th>\n",
              "      <th>8</th>\n",
              "      <th>9</th>\n",
              "      <th>10</th>\n",
              "      <th>11</th>\n",
              "      <th>12</th>\n",
              "      <th>13</th>\n",
              "      <th>14</th>\n",
              "      <th>15</th>\n",
              "      <th>16</th>\n",
              "      <th>17</th>\n",
              "      <th>18</th>\n",
              "    </tr>\n",
              "  </thead>\n",
              "  <tbody>\n",
              "    <tr>\n",
              "      <th>0</th>\n",
              "      <td>549</td>\n",
              "      <td>107</td>\n",
              "      <td>51</td>\n",
              "      <td>103</td>\n",
              "      <td>182</td>\n",
              "      <td>56</td>\n",
              "      <td>11</td>\n",
              "      <td>213</td>\n",
              "      <td>31</td>\n",
              "      <td>24</td>\n",
              "      <td>162</td>\n",
              "      <td>226</td>\n",
              "      <td>673</td>\n",
              "      <td>217</td>\n",
              "      <td>72</td>\n",
              "      <td>2</td>\n",
              "      <td>4</td>\n",
              "      <td>188</td>\n",
              "      <td>198</td>\n",
              "    </tr>\n",
              "    <tr>\n",
              "      <th>1</th>\n",
              "      <td>275</td>\n",
              "      <td>87</td>\n",
              "      <td>44</td>\n",
              "      <td>70</td>\n",
              "      <td>179</td>\n",
              "      <td>75</td>\n",
              "      <td>6</td>\n",
              "      <td>146</td>\n",
              "      <td>45</td>\n",
              "      <td>19</td>\n",
              "      <td>141</td>\n",
              "      <td>167</td>\n",
              "      <td>326</td>\n",
              "      <td>178</td>\n",
              "      <td>69</td>\n",
              "      <td>6</td>\n",
              "      <td>1</td>\n",
              "      <td>194</td>\n",
              "      <td>201</td>\n",
              "    </tr>\n",
              "    <tr>\n",
              "      <th>2</th>\n",
              "      <td>712</td>\n",
              "      <td>105</td>\n",
              "      <td>45</td>\n",
              "      <td>100</td>\n",
              "      <td>195</td>\n",
              "      <td>61</td>\n",
              "      <td>10</td>\n",
              "      <td>198</td>\n",
              "      <td>33</td>\n",
              "      <td>23</td>\n",
              "      <td>149</td>\n",
              "      <td>214</td>\n",
              "      <td>586</td>\n",
              "      <td>186</td>\n",
              "      <td>67</td>\n",
              "      <td>8</td>\n",
              "      <td>5</td>\n",
              "      <td>192</td>\n",
              "      <td>200</td>\n",
              "    </tr>\n",
              "    <tr>\n",
              "      <th>3</th>\n",
              "      <td>701</td>\n",
              "      <td>108</td>\n",
              "      <td>49</td>\n",
              "      <td>103</td>\n",
              "      <td>200</td>\n",
              "      <td>62</td>\n",
              "      <td>10</td>\n",
              "      <td>206</td>\n",
              "      <td>32</td>\n",
              "      <td>23</td>\n",
              "      <td>155</td>\n",
              "      <td>227</td>\n",
              "      <td>635</td>\n",
              "      <td>215</td>\n",
              "      <td>72</td>\n",
              "      <td>6</td>\n",
              "      <td>16</td>\n",
              "      <td>189</td>\n",
              "      <td>198</td>\n",
              "    </tr>\n",
              "    <tr>\n",
              "      <th>4</th>\n",
              "      <td>30</td>\n",
              "      <td>89</td>\n",
              "      <td>43</td>\n",
              "      <td>85</td>\n",
              "      <td>160</td>\n",
              "      <td>64</td>\n",
              "      <td>11</td>\n",
              "      <td>155</td>\n",
              "      <td>43</td>\n",
              "      <td>19</td>\n",
              "      <td>151</td>\n",
              "      <td>173</td>\n",
              "      <td>356</td>\n",
              "      <td>174</td>\n",
              "      <td>72</td>\n",
              "      <td>5</td>\n",
              "      <td>9</td>\n",
              "      <td>185</td>\n",
              "      <td>196</td>\n",
              "    </tr>\n",
              "    <tr>\n",
              "      <th>5</th>\n",
              "      <td>417</td>\n",
              "      <td>96</td>\n",
              "      <td>36</td>\n",
              "      <td>74</td>\n",
              "      <td>183</td>\n",
              "      <td>70</td>\n",
              "      <td>6</td>\n",
              "      <td>149</td>\n",
              "      <td>43</td>\n",
              "      <td>19</td>\n",
              "      <td>127</td>\n",
              "      <td>178</td>\n",
              "      <td>341</td>\n",
              "      <td>127</td>\n",
              "      <td>69</td>\n",
              "      <td>0</td>\n",
              "      <td>17</td>\n",
              "      <td>201</td>\n",
              "      <td>205</td>\n",
              "    </tr>\n",
              "    <tr>\n",
              "      <th>6</th>\n",
              "      <td>471</td>\n",
              "      <td>104</td>\n",
              "      <td>55</td>\n",
              "      <td>109</td>\n",
              "      <td>230</td>\n",
              "      <td>67</td>\n",
              "      <td>12</td>\n",
              "      <td>218</td>\n",
              "      <td>30</td>\n",
              "      <td>24</td>\n",
              "      <td>174</td>\n",
              "      <td>230</td>\n",
              "      <td>706</td>\n",
              "      <td>226</td>\n",
              "      <td>67</td>\n",
              "      <td>8</td>\n",
              "      <td>22</td>\n",
              "      <td>191</td>\n",
              "      <td>202</td>\n",
              "    </tr>\n",
              "    <tr>\n",
              "      <th>7</th>\n",
              "      <td>552</td>\n",
              "      <td>90</td>\n",
              "      <td>39</td>\n",
              "      <td>89</td>\n",
              "      <td>181</td>\n",
              "      <td>62</td>\n",
              "      <td>8</td>\n",
              "      <td>175</td>\n",
              "      <td>38</td>\n",
              "      <td>21</td>\n",
              "      <td>132</td>\n",
              "      <td>200</td>\n",
              "      <td>458</td>\n",
              "      <td>154</td>\n",
              "      <td>70</td>\n",
              "      <td>11</td>\n",
              "      <td>15</td>\n",
              "      <td>189</td>\n",
              "      <td>195</td>\n",
              "    </tr>\n",
              "    <tr>\n",
              "      <th>8</th>\n",
              "      <td>702</td>\n",
              "      <td>96</td>\n",
              "      <td>48</td>\n",
              "      <td>83</td>\n",
              "      <td>177</td>\n",
              "      <td>59</td>\n",
              "      <td>8</td>\n",
              "      <td>171</td>\n",
              "      <td>39</td>\n",
              "      <td>21</td>\n",
              "      <td>152</td>\n",
              "      <td>195</td>\n",
              "      <td>438</td>\n",
              "      <td>196</td>\n",
              "      <td>67</td>\n",
              "      <td>15</td>\n",
              "      <td>0</td>\n",
              "      <td>195</td>\n",
              "      <td>201</td>\n",
              "    </tr>\n",
              "    <tr>\n",
              "      <th>9</th>\n",
              "      <td>0</td>\n",
              "      <td>95</td>\n",
              "      <td>48</td>\n",
              "      <td>83</td>\n",
              "      <td>178</td>\n",
              "      <td>72</td>\n",
              "      <td>10</td>\n",
              "      <td>162</td>\n",
              "      <td>42</td>\n",
              "      <td>20</td>\n",
              "      <td>159</td>\n",
              "      <td>176</td>\n",
              "      <td>379</td>\n",
              "      <td>184</td>\n",
              "      <td>70</td>\n",
              "      <td>6</td>\n",
              "      <td>16</td>\n",
              "      <td>187</td>\n",
              "      <td>197</td>\n",
              "    </tr>\n",
              "    <tr>\n",
              "      <th>10</th>\n",
              "      <td>709</td>\n",
              "      <td>95</td>\n",
              "      <td>42</td>\n",
              "      <td>96</td>\n",
              "      <td>197</td>\n",
              "      <td>65</td>\n",
              "      <td>9</td>\n",
              "      <td>178</td>\n",
              "      <td>37</td>\n",
              "      <td>21</td>\n",
              "      <td>141</td>\n",
              "      <td>199</td>\n",
              "      <td>474</td>\n",
              "      <td>149</td>\n",
              "      <td>67</td>\n",
              "      <td>1</td>\n",
              "      <td>29</td>\n",
              "      <td>193</td>\n",
              "      <td>200</td>\n",
              "    </tr>\n",
              "    <tr>\n",
              "      <th>11</th>\n",
              "      <td>707</td>\n",
              "      <td>92</td>\n",
              "      <td>35</td>\n",
              "      <td>58</td>\n",
              "      <td>136</td>\n",
              "      <td>58</td>\n",
              "      <td>6</td>\n",
              "      <td>122</td>\n",
              "      <td>55</td>\n",
              "      <td>17</td>\n",
              "      <td>132</td>\n",
              "      <td>142</td>\n",
              "      <td>222</td>\n",
              "      <td>116</td>\n",
              "      <td>64</td>\n",
              "      <td>6</td>\n",
              "      <td>17</td>\n",
              "      <td>197</td>\n",
              "      <td>203</td>\n",
              "    </tr>\n",
              "    <tr>\n",
              "      <th>12</th>\n",
              "      <td>228</td>\n",
              "      <td>105</td>\n",
              "      <td>54</td>\n",
              "      <td>106</td>\n",
              "      <td>215</td>\n",
              "      <td>68</td>\n",
              "      <td>10</td>\n",
              "      <td>208</td>\n",
              "      <td>32</td>\n",
              "      <td>24</td>\n",
              "      <td>166</td>\n",
              "      <td>217</td>\n",
              "      <td>640</td>\n",
              "      <td>218</td>\n",
              "      <td>69</td>\n",
              "      <td>14</td>\n",
              "      <td>23</td>\n",
              "      <td>189</td>\n",
              "      <td>199</td>\n",
              "    </tr>\n",
              "    <tr>\n",
              "      <th>13</th>\n",
              "      <td>12</td>\n",
              "      <td>88</td>\n",
              "      <td>46</td>\n",
              "      <td>74</td>\n",
              "      <td>171</td>\n",
              "      <td>68</td>\n",
              "      <td>6</td>\n",
              "      <td>152</td>\n",
              "      <td>43</td>\n",
              "      <td>19</td>\n",
              "      <td>148</td>\n",
              "      <td>180</td>\n",
              "      <td>349</td>\n",
              "      <td>192</td>\n",
              "      <td>71</td>\n",
              "      <td>5</td>\n",
              "      <td>11</td>\n",
              "      <td>189</td>\n",
              "      <td>195</td>\n",
              "    </tr>\n",
              "    <tr>\n",
              "      <th>14</th>\n",
              "      <td>427</td>\n",
              "      <td>86</td>\n",
              "      <td>38</td>\n",
              "      <td>89</td>\n",
              "      <td>176</td>\n",
              "      <td>59</td>\n",
              "      <td>9</td>\n",
              "      <td>169</td>\n",
              "      <td>39</td>\n",
              "      <td>20</td>\n",
              "      <td>132</td>\n",
              "      <td>190</td>\n",
              "      <td>428</td>\n",
              "      <td>148</td>\n",
              "      <td>67</td>\n",
              "      <td>7</td>\n",
              "      <td>33</td>\n",
              "      <td>193</td>\n",
              "      <td>202</td>\n",
              "    </tr>\n",
              "  </tbody>\n",
              "</table>\n",
              "</div>"
            ],
            "text/plain": [
              "     0    1   2    3    4   5   6    7   ...   11   12   13  14  15  16   17   18\n",
              "0   549  107  51  103  182  56  11  213  ...  226  673  217  72   2   4  188  198\n",
              "1   275   87  44   70  179  75   6  146  ...  167  326  178  69   6   1  194  201\n",
              "2   712  105  45  100  195  61  10  198  ...  214  586  186  67   8   5  192  200\n",
              "3   701  108  49  103  200  62  10  206  ...  227  635  215  72   6  16  189  198\n",
              "4    30   89  43   85  160  64  11  155  ...  173  356  174  72   5   9  185  196\n",
              "5   417   96  36   74  183  70   6  149  ...  178  341  127  69   0  17  201  205\n",
              "6   471  104  55  109  230  67  12  218  ...  230  706  226  67   8  22  191  202\n",
              "7   552   90  39   89  181  62   8  175  ...  200  458  154  70  11  15  189  195\n",
              "8   702   96  48   83  177  59   8  171  ...  195  438  196  67  15   0  195  201\n",
              "9     0   95  48   83  178  72  10  162  ...  176  379  184  70   6  16  187  197\n",
              "10  709   95  42   96  197  65   9  178  ...  199  474  149  67   1  29  193  200\n",
              "11  707   92  35   58  136  58   6  122  ...  142  222  116  64   6  17  197  203\n",
              "12  228  105  54  106  215  68  10  208  ...  217  640  218  69  14  23  189  199\n",
              "13   12   88  46   74  171  68   6  152  ...  180  349  192  71   5  11  189  195\n",
              "14  427   86  38   89  176  59   9  169  ...  190  428  148  67   7  33  193  202\n",
              "\n",
              "[15 rows x 19 columns]"
            ]
          },
          "metadata": {
            "tags": []
          },
          "execution_count": 4
        }
      ]
    },
    {
      "cell_type": "markdown",
      "metadata": {
        "nbgrader": {
          "grade": false,
          "grade_id": "cell-98e7d91d77d65fcf",
          "locked": true,
          "schema_version": 2,
          "solution": false
        },
        "id": "kdKNmoaDjbII"
      },
      "source": [
        "Methods `describe` and `info` deliver some useful information."
      ]
    },
    {
      "cell_type": "code",
      "metadata": {
        "id": "Uc490FJejbII",
        "colab": {
          "base_uri": "https://localhost:8080/",
          "height": 304
        },
        "outputId": "36cb52d4-26d5-4ea8-da8b-f49ebfbc353a"
      },
      "source": [
        "X_train_pd.describe()"
      ],
      "execution_count": null,
      "outputs": [
        {
          "output_type": "execute_result",
          "data": {
            "text/html": [
              "<div>\n",
              "<style scoped>\n",
              "    .dataframe tbody tr th:only-of-type {\n",
              "        vertical-align: middle;\n",
              "    }\n",
              "\n",
              "    .dataframe tbody tr th {\n",
              "        vertical-align: top;\n",
              "    }\n",
              "\n",
              "    .dataframe thead th {\n",
              "        text-align: right;\n",
              "    }\n",
              "</style>\n",
              "<table border=\"1\" class=\"dataframe\">\n",
              "  <thead>\n",
              "    <tr style=\"text-align: right;\">\n",
              "      <th></th>\n",
              "      <th>0</th>\n",
              "      <th>1</th>\n",
              "      <th>2</th>\n",
              "      <th>3</th>\n",
              "      <th>4</th>\n",
              "      <th>5</th>\n",
              "      <th>6</th>\n",
              "      <th>7</th>\n",
              "      <th>8</th>\n",
              "      <th>9</th>\n",
              "      <th>10</th>\n",
              "      <th>11</th>\n",
              "      <th>12</th>\n",
              "      <th>13</th>\n",
              "      <th>14</th>\n",
              "      <th>15</th>\n",
              "      <th>16</th>\n",
              "      <th>17</th>\n",
              "      <th>18</th>\n",
              "    </tr>\n",
              "  </thead>\n",
              "  <tbody>\n",
              "    <tr>\n",
              "      <th>count</th>\n",
              "      <td>549.000000</td>\n",
              "      <td>549.000000</td>\n",
              "      <td>549.000000</td>\n",
              "      <td>549.000000</td>\n",
              "      <td>549.000000</td>\n",
              "      <td>549.000000</td>\n",
              "      <td>549.000000</td>\n",
              "      <td>549.000000</td>\n",
              "      <td>549.000000</td>\n",
              "      <td>549.000000</td>\n",
              "      <td>549.000000</td>\n",
              "      <td>549.000000</td>\n",
              "      <td>549.000000</td>\n",
              "      <td>549.000000</td>\n",
              "      <td>549.000000</td>\n",
              "      <td>549.000000</td>\n",
              "      <td>549.000000</td>\n",
              "      <td>549.000000</td>\n",
              "      <td>549.000000</td>\n",
              "    </tr>\n",
              "    <tr>\n",
              "      <th>mean</th>\n",
              "      <td>419.856102</td>\n",
              "      <td>93.695811</td>\n",
              "      <td>44.642987</td>\n",
              "      <td>82.069217</td>\n",
              "      <td>169.668488</td>\n",
              "      <td>61.941712</td>\n",
              "      <td>8.754098</td>\n",
              "      <td>168.479053</td>\n",
              "      <td>41.012750</td>\n",
              "      <td>20.551913</td>\n",
              "      <td>147.593807</td>\n",
              "      <td>188.690346</td>\n",
              "      <td>437.959927</td>\n",
              "      <td>173.537341</td>\n",
              "      <td>72.397086</td>\n",
              "      <td>6.336976</td>\n",
              "      <td>13.138434</td>\n",
              "      <td>189.100182</td>\n",
              "      <td>195.894353</td>\n",
              "    </tr>\n",
              "    <tr>\n",
              "      <th>std</th>\n",
              "      <td>241.100025</td>\n",
              "      <td>8.155223</td>\n",
              "      <td>6.188644</td>\n",
              "      <td>15.935853</td>\n",
              "      <td>34.051637</td>\n",
              "      <td>8.682365</td>\n",
              "      <td>5.253050</td>\n",
              "      <td>33.087283</td>\n",
              "      <td>7.848347</td>\n",
              "      <td>2.572230</td>\n",
              "      <td>14.502354</td>\n",
              "      <td>31.794773</td>\n",
              "      <td>175.065416</td>\n",
              "      <td>33.147934</td>\n",
              "      <td>8.084571</td>\n",
              "      <td>4.890528</td>\n",
              "      <td>9.113385</td>\n",
              "      <td>6.212991</td>\n",
              "      <td>7.494995</td>\n",
              "    </tr>\n",
              "    <tr>\n",
              "      <th>min</th>\n",
              "      <td>0.000000</td>\n",
              "      <td>76.000000</td>\n",
              "      <td>33.000000</td>\n",
              "      <td>40.000000</td>\n",
              "      <td>104.000000</td>\n",
              "      <td>48.000000</td>\n",
              "      <td>3.000000</td>\n",
              "      <td>112.000000</td>\n",
              "      <td>26.000000</td>\n",
              "      <td>17.000000</td>\n",
              "      <td>118.000000</td>\n",
              "      <td>130.000000</td>\n",
              "      <td>184.000000</td>\n",
              "      <td>109.000000</td>\n",
              "      <td>59.000000</td>\n",
              "      <td>0.000000</td>\n",
              "      <td>0.000000</td>\n",
              "      <td>176.000000</td>\n",
              "      <td>181.000000</td>\n",
              "    </tr>\n",
              "    <tr>\n",
              "      <th>25%</th>\n",
              "      <td>208.000000</td>\n",
              "      <td>88.000000</td>\n",
              "      <td>39.000000</td>\n",
              "      <td>70.000000</td>\n",
              "      <td>143.000000</td>\n",
              "      <td>57.000000</td>\n",
              "      <td>7.000000</td>\n",
              "      <td>146.000000</td>\n",
              "      <td>33.000000</td>\n",
              "      <td>19.000000</td>\n",
              "      <td>136.000000</td>\n",
              "      <td>168.000000</td>\n",
              "      <td>320.000000</td>\n",
              "      <td>147.000000</td>\n",
              "      <td>67.000000</td>\n",
              "      <td>2.000000</td>\n",
              "      <td>6.000000</td>\n",
              "      <td>184.000000</td>\n",
              "      <td>191.000000</td>\n",
              "    </tr>\n",
              "    <tr>\n",
              "      <th>50%</th>\n",
              "      <td>423.000000</td>\n",
              "      <td>93.000000</td>\n",
              "      <td>44.000000</td>\n",
              "      <td>80.000000</td>\n",
              "      <td>169.000000</td>\n",
              "      <td>61.000000</td>\n",
              "      <td>8.000000</td>\n",
              "      <td>157.000000</td>\n",
              "      <td>43.000000</td>\n",
              "      <td>20.000000</td>\n",
              "      <td>146.000000</td>\n",
              "      <td>179.000000</td>\n",
              "      <td>363.000000</td>\n",
              "      <td>173.000000</td>\n",
              "      <td>71.000000</td>\n",
              "      <td>6.000000</td>\n",
              "      <td>12.000000</td>\n",
              "      <td>189.000000</td>\n",
              "      <td>197.000000</td>\n",
              "    </tr>\n",
              "    <tr>\n",
              "      <th>75%</th>\n",
              "      <td>620.000000</td>\n",
              "      <td>100.000000</td>\n",
              "      <td>49.000000</td>\n",
              "      <td>98.000000</td>\n",
              "      <td>195.000000</td>\n",
              "      <td>65.000000</td>\n",
              "      <td>10.000000</td>\n",
              "      <td>198.000000</td>\n",
              "      <td>46.000000</td>\n",
              "      <td>23.000000</td>\n",
              "      <td>159.000000</td>\n",
              "      <td>216.000000</td>\n",
              "      <td>586.000000</td>\n",
              "      <td>198.000000</td>\n",
              "      <td>75.000000</td>\n",
              "      <td>9.000000</td>\n",
              "      <td>20.000000</td>\n",
              "      <td>193.000000</td>\n",
              "      <td>201.000000</td>\n",
              "    </tr>\n",
              "    <tr>\n",
              "      <th>max</th>\n",
              "      <td>842.000000</td>\n",
              "      <td>119.000000</td>\n",
              "      <td>59.000000</td>\n",
              "      <td>112.000000</td>\n",
              "      <td>333.000000</td>\n",
              "      <td>138.000000</td>\n",
              "      <td>55.000000</td>\n",
              "      <td>260.000000</td>\n",
              "      <td>61.000000</td>\n",
              "      <td>28.000000</td>\n",
              "      <td>188.000000</td>\n",
              "      <td>320.000000</td>\n",
              "      <td>982.000000</td>\n",
              "      <td>268.000000</td>\n",
              "      <td>135.000000</td>\n",
              "      <td>22.000000</td>\n",
              "      <td>40.000000</td>\n",
              "      <td>206.000000</td>\n",
              "      <td>211.000000</td>\n",
              "    </tr>\n",
              "  </tbody>\n",
              "</table>\n",
              "</div>"
            ],
            "text/plain": [
              "               0           1           2   ...          16          17          18\n",
              "count  549.000000  549.000000  549.000000  ...  549.000000  549.000000  549.000000\n",
              "mean   419.856102   93.695811   44.642987  ...   13.138434  189.100182  195.894353\n",
              "std    241.100025    8.155223    6.188644  ...    9.113385    6.212991    7.494995\n",
              "min      0.000000   76.000000   33.000000  ...    0.000000  176.000000  181.000000\n",
              "25%    208.000000   88.000000   39.000000  ...    6.000000  184.000000  191.000000\n",
              "50%    423.000000   93.000000   44.000000  ...   12.000000  189.000000  197.000000\n",
              "75%    620.000000  100.000000   49.000000  ...   20.000000  193.000000  201.000000\n",
              "max    842.000000  119.000000   59.000000  ...   40.000000  206.000000  211.000000\n",
              "\n",
              "[8 rows x 19 columns]"
            ]
          },
          "metadata": {
            "tags": []
          },
          "execution_count": 5
        }
      ]
    },
    {
      "cell_type": "code",
      "metadata": {
        "id": "niWbGOcojbII",
        "colab": {
          "base_uri": "https://localhost:8080/"
        },
        "outputId": "02748f4e-2d63-4d2a-857f-f96f481596bb"
      },
      "source": [
        "X_train_pd.info()"
      ],
      "execution_count": null,
      "outputs": [
        {
          "output_type": "stream",
          "text": [
            "<class 'pandas.core.frame.DataFrame'>\n",
            "RangeIndex: 549 entries, 0 to 548\n",
            "Data columns (total 19 columns):\n",
            " #   Column  Non-Null Count  Dtype\n",
            "---  ------  --------------  -----\n",
            " 0   0       549 non-null    int64\n",
            " 1   1       549 non-null    int64\n",
            " 2   2       549 non-null    int64\n",
            " 3   3       549 non-null    int64\n",
            " 4   4       549 non-null    int64\n",
            " 5   5       549 non-null    int64\n",
            " 6   6       549 non-null    int64\n",
            " 7   7       549 non-null    int64\n",
            " 8   8       549 non-null    int64\n",
            " 9   9       549 non-null    int64\n",
            " 10  10      549 non-null    int64\n",
            " 11  11      549 non-null    int64\n",
            " 12  12      549 non-null    int64\n",
            " 13  13      549 non-null    int64\n",
            " 14  14      549 non-null    int64\n",
            " 15  15      549 non-null    int64\n",
            " 16  16      549 non-null    int64\n",
            " 17  17      549 non-null    int64\n",
            " 18  18      549 non-null    int64\n",
            "dtypes: int64(19)\n",
            "memory usage: 81.6 KB\n"
          ],
          "name": "stdout"
        }
      ]
    },
    {
      "cell_type": "markdown",
      "metadata": {
        "nbgrader": {
          "grade": false,
          "grade_id": "cell-be844269be69c387",
          "locked": true,
          "schema_version": 2,
          "solution": false
        },
        "id": "qRWDiv0qjbIJ"
      },
      "source": [
        "### 2. Machine Learning pipeline\n",
        "Here you are supposed to perform the desired transformations. Please, explain your results briefly after each task."
      ]
    },
    {
      "cell_type": "markdown",
      "metadata": {
        "id": "6kgUrxxnjbIJ"
      },
      "source": [
        "#### 2.0. Data preprocessing\n",
        "* Make some transformations of the dataset (if necessary). Briefly explain the transformations"
      ]
    },
    {
      "cell_type": "code",
      "metadata": {
        "nbgrader": {
          "grade": true,
          "grade_id": "cell-a1514aa189a49fca",
          "locked": false,
          "points": 15,
          "schema_version": 2,
          "solution": true
        },
        "id": "M8_ro-hPjbIJ"
      },
      "source": [
        "from sklearn.preprocessing import StandardScaler\n",
        "scaler = StandardScaler()\n",
        "scaler.fit(np.concatenate((X_train, X_test)))\n",
        "X_train = scaler.transform(X_train)\n",
        "X_test = scaler.transform(X_test)"
      ],
      "execution_count": null,
      "outputs": []
    },
    {
      "cell_type": "markdown",
      "metadata": {
        "id": "jPzdgLCavLXU"
      },
      "source": [
        "We should normalize dataset in logistic regression. Features with big scale will contribute the model more then features with the less one. I use StandardScaler to get rid of it ."
      ]
    },
    {
      "cell_type": "markdown",
      "metadata": {
        "id": "xxOIFoixjbIJ"
      },
      "source": [
        "#### 2.1. Basic logistic regression\n",
        "* Find optimal hyperparameters for logistic regression with cross-validation on the `train` data (small grid/random search is enough, no need to find the *best* parameters).\n",
        "\n",
        "* Estimate the model quality with `f1` and `accuracy` scores.\n",
        "* Plot a ROC-curve for the trained model. For the multiclass case you might use `scikitplot` library (e.g. `scikitplot.metrics.plot_roc(test_labels, predicted_proba)`).\n",
        "\n",
        "*Note: please, use the following hyperparameters for logistic regression: `multi_class='multinomial'`, `solver='saga'` `tol=1e-3` and ` max_iter=500`.*"
      ]
    },
    {
      "cell_type": "code",
      "metadata": {
        "id": "DhaSzwc2jbIK",
        "colab": {
          "base_uri": "https://localhost:8080/"
        },
        "outputId": "297f0583-cd8d-4bc1-8efe-49d397a3e054"
      },
      "source": [
        "# You might use this command to install scikit-plot. \n",
        "# Warning, if you a running locally, don't call pip from within jupyter, call it from terminal in the corresponding \n",
        "# virtual environment instead\n",
        "\n",
        "! pip install scikit-plot"
      ],
      "execution_count": null,
      "outputs": [
        {
          "output_type": "stream",
          "text": [
            "Requirement already satisfied: scikit-plot in /usr/local/lib/python3.7/dist-packages (0.3.7)\n",
            "Requirement already satisfied: matplotlib>=1.4.0 in /usr/local/lib/python3.7/dist-packages (from scikit-plot) (3.2.2)\n",
            "Requirement already satisfied: scipy>=0.9 in /usr/local/lib/python3.7/dist-packages (from scikit-plot) (1.4.1)\n",
            "Requirement already satisfied: joblib>=0.10 in /usr/local/lib/python3.7/dist-packages (from scikit-plot) (1.0.1)\n",
            "Requirement already satisfied: scikit-learn>=0.18 in /usr/local/lib/python3.7/dist-packages (from scikit-plot) (0.22.2.post1)\n",
            "Requirement already satisfied: kiwisolver>=1.0.1 in /usr/local/lib/python3.7/dist-packages (from matplotlib>=1.4.0->scikit-plot) (1.3.1)\n",
            "Requirement already satisfied: cycler>=0.10 in /usr/local/lib/python3.7/dist-packages (from matplotlib>=1.4.0->scikit-plot) (0.10.0)\n",
            "Requirement already satisfied: pyparsing!=2.0.4,!=2.1.2,!=2.1.6,>=2.0.1 in /usr/local/lib/python3.7/dist-packages (from matplotlib>=1.4.0->scikit-plot) (2.4.7)\n",
            "Requirement already satisfied: python-dateutil>=2.1 in /usr/local/lib/python3.7/dist-packages (from matplotlib>=1.4.0->scikit-plot) (2.8.1)\n",
            "Requirement already satisfied: numpy>=1.11 in /usr/local/lib/python3.7/dist-packages (from matplotlib>=1.4.0->scikit-plot) (1.19.5)\n",
            "Requirement already satisfied: six in /usr/local/lib/python3.7/dist-packages (from cycler>=0.10->matplotlib>=1.4.0->scikit-plot) (1.15.0)\n"
          ],
          "name": "stdout"
        }
      ]
    },
    {
      "cell_type": "code",
      "metadata": {
        "nbgrader": {
          "grade": true,
          "grade_id": "cell-1dd5ad5d0845cbbb",
          "locked": false,
          "points": 5,
          "schema_version": 2,
          "solution": true
        },
        "id": "ApfCtdU-jbIJ",
        "colab": {
          "base_uri": "https://localhost:8080/",
          "height": 463
        },
        "outputId": "3cf835d2-9391-42e1-91a0-b9e87cc92224"
      },
      "source": [
        "from sklearn.model_selection import GridSearchCV\n",
        "from sklearn.linear_model import LogisticRegression\n",
        "from sklearn.metrics import f1_score\n",
        "from sklearn.metrics import accuracy_score\n",
        "from scikitplot.metrics import plot_roc\n",
        "import matplotlib.pyplot as plt\n",
        "\n",
        "def calc_scores(clf):\n",
        "    y_predict = clf.predict(X_test[:10, :])\n",
        "\n",
        "    print(y_predict)\n",
        "    print(y_test[:10])\n",
        "\n",
        "    score = clf.score(X_test, y_test)\n",
        "    print(score)\n",
        "\n",
        "    y_predict = clf.predict(X_test)\n",
        "    f1_score_val = f1_score(y_test, y_predict, average=\"macro\")\n",
        "    print(\"f1 score:\")\n",
        "    print(f1_score_val)\n",
        "\n",
        "    accuracy_score_val = accuracy_score(y_test, y_predict, normalize=True)\n",
        "    print(\"accuracy score:\")\n",
        "    print(accuracy_score_val)\n",
        "\n",
        "def show_roc(clf):\n",
        "    y_probas = clf.predict_proba(X_test)\n",
        "\n",
        "    plt.figure()\n",
        "    subplot = plot_roc(y_test, y_probas)\n",
        "    plt.subplot(subplot)\n",
        "    plt.show()\n",
        "\n",
        "\n",
        "alg = LogisticRegression(multi_class='multinomial', solver='saga', tol=1e-3, max_iter=500)\n",
        "param_grid = {\n",
        "    'penalty': ['l1', 'l2', 'elasticnet'],\n",
        "    'C': np.linspace(0, 1)\n",
        "}\n",
        "search = GridSearchCV(alg, param_grid, n_jobs=-1)\n",
        "clf = search.fit(X_train, y_train)\n",
        "print(\"Best parameters (CV score=%0.3f):\" % search.best_score_)\n",
        "print(search.best_params_)\n",
        "\n",
        "calc_scores(clf)\n",
        "show_roc(clf)"
      ],
      "execution_count": null,
      "outputs": [
        {
          "output_type": "stream",
          "text": [
            "Best parameters (CV score=0.792):\n",
            "{'C': 0.9591836734693877, 'penalty': 'l1'}\n",
            "['van' 'opel' 'bus' 'bus' 'van' 'opel' 'van' 'bus' 'saab' 'bus']\n",
            "['van' 'opel' 'saab' 'bus' 'van' 'van' 'van' 'bus' 'saab' 'bus']\n",
            "0.7676767676767676\n",
            "f1 score:\n",
            "0.7643834055846359\n",
            "accuracy score:\n",
            "0.7676767676767676\n"
          ],
          "name": "stdout"
        },
        {
          "output_type": "display_data",
          "data": {
            "text/plain": [
              "<Figure size 432x288 with 0 Axes>"
            ]
          },
          "metadata": {
            "tags": []
          }
        },
        {
          "output_type": "display_data",
          "data": {
            "image/png": "[encoded data removed]",
            "text/plain": [
              "<Figure size 432x288 with 1 Axes>"
            ]
          },
          "metadata": {
            "tags": [],
            "needs_background": "light"
          }
        }
      ]
    },
    {
      "cell_type": "markdown",
      "metadata": {
        "id": "Wd5gmQOCjbIK"
      },
      "source": [
        "#### 2.2. PCA: explained variance plot\n",
        "* Apply the PCA to the train part of the data. Build the explaided variance plot. "
      ]
    },
    {
      "cell_type": "code",
      "metadata": {
        "nbgrader": {
          "grade": true,
          "grade_id": "cell-c6c614740bce090e",
          "locked": false,
          "points": 10,
          "schema_version": 2,
          "solution": true
        },
        "id": "zzgJIn2XjbIK",
        "colab": {
          "base_uri": "https://localhost:8080/",
          "height": 349
        },
        "outputId": "c8162832-741c-4cb3-f48d-6d694599b658"
      },
      "source": [
        "from sklearn.decomposition import PCA\n",
        "\n",
        "pca = PCA()\n",
        "pca.fit(X_train)\n",
        "print(pca.explained_variance_ratio_)\n",
        "\n",
        "plt.figure()\n",
        "x = np.linspace(1, 19, len(pca.explained_variance_ratio_))\n",
        "plt.plot(x, pca.explained_variance_ratio_, 'o', color='black')\n",
        "plt.show()"
      ],
      "execution_count": null,
      "outputs": [
        {
          "output_type": "stream",
          "text": [
            "[4.75439134e-01 1.59042325e-01 1.27643632e-01 6.29103406e-02\n",
            " 4.90445326e-02 4.51006979e-02 2.67204464e-02 1.89723118e-02\n",
            " 1.16841757e-02 8.59881562e-03 4.58638480e-03 3.37727596e-03\n",
            " 2.19268945e-03 1.74569685e-03 1.12673602e-03 8.40107099e-04\n",
            " 6.49051698e-04 3.07734193e-04 1.79129024e-05]\n"
          ],
          "name": "stdout"
        },
        {
          "output_type": "display_data",
          "data": {
            "image/png": "[encoded data removed]",
            "text/plain": [
              "<Figure size 432x288 with 1 Axes>"
            ]
          },
          "metadata": {
            "tags": [],
            "needs_background": "light"
          }
        }
      ]
    },
    {
      "cell_type": "markdown",
      "metadata": {
        "nbgrader": {
          "grade": false,
          "grade_id": "cell-0c1fe666f52fe53c",
          "locked": true,
          "schema_version": 2,
          "solution": false
        },
        "id": "9Mpe6QcxjbIK"
      },
      "source": [
        "#### 2.3. PCA trasformation\n",
        "* Select the appropriate number of components. Briefly explain your choice. Should you normalize the data?\n",
        "\n",
        "*Use `fit` and `transform` methods to transform the `train` and `test` parts.*"
      ]
    },
    {
      "cell_type": "code",
      "metadata": {
        "nbgrader": {
          "grade": true,
          "grade_id": "cell-96ab18d96473ef71",
          "locked": false,
          "points": 5,
          "schema_version": 2,
          "solution": true
        },
        "id": "1LYmK9y3jbIL"
      },
      "source": [
        "pca = PCA(n_components=8)\n",
        "pca.fit(X_train)\n",
        "\n",
        "X_train_pc = pca.transform(X_train)\n",
        "X_test_pc = pca.transform(X_test)"
      ],
      "execution_count": null,
      "outputs": []
    },
    {
      "cell_type": "markdown",
      "metadata": {
        "id": "7voyCcm_uxhZ"
      },
      "source": [
        "Looking on the plot in previous task we can see that ~8 components varience are valuable. We should normalize data before running PCA in order the feature varience be comparable."
      ]
    },
    {
      "cell_type": "markdown",
      "metadata": {
        "id": "9nleNT2TjbIL"
      },
      "source": [
        "**Note: From this point `sklearn` [Pipeline](https://scikit-learn.org/stable/modules/compose.html) might be useful to perform transformations on the data. Refer to the [docs](https://scikit-learn.org/stable/modules/generated/sklearn.pipeline.Pipeline.html) for more information.**"
      ]
    },
    {
      "cell_type": "markdown",
      "metadata": {
        "nbgrader": {
          "grade": false,
          "grade_id": "cell-d28b58a35c94e988",
          "locked": true,
          "schema_version": 2,
          "solution": false
        },
        "id": "rhXsZGbkjbIL"
      },
      "source": [
        "#### 2.4. Logistic regression on PCA-preprocessed data.\n",
        "* Find optimal hyperparameters for logistic regression with cross-validation on the transformed by PCA `train` data.\n",
        "\n",
        "* Estimate the model quality with `f1` and `accuracy` scores.\n",
        "* Plot a ROC-curve for the trained model. For the multiclass case you might use `scikitplot` library (e.g. `scikitplot.metrics.plot_roc(test_labels, predicted_proba)`).\n",
        "\n",
        "*Note: please, use the following hyperparameters for logistic regression: `multi_class='multinomial'`, `solver='saga'` and `tol=1e-3`*"
      ]
    },
    {
      "cell_type": "markdown",
      "metadata": {
        "id": "UckboegF5McD"
      },
      "source": [
        "Here we use first 8 largest pca components according previous plot."
      ]
    },
    {
      "cell_type": "code",
      "metadata": {
        "colab": {
          "base_uri": "https://localhost:8080/",
          "height": 396
        },
        "id": "EIY7g6eTjEjr",
        "outputId": "a8980a8b-690a-49ff-fe81-a2b22ffe2679"
      },
      "source": [
        "clf = alg.fit(X_train_pc, y_train)\n",
        "y_predict = clf.predict(X_test_pc[:10, :])\n",
        "\n",
        "print(y_predict)\n",
        "print(y_test[:10])\n",
        "\n",
        "score = clf.score(X_test_pc, y_test)\n",
        "print(score)\n",
        "\n",
        "y_predict = clf.predict(X_test_pc)\n",
        "f1_score_val = f1_score(y_test, y_predict, average=None)\n",
        "print(f1_score_val)\n",
        "\n",
        "accuracy_score_val = accuracy_score(y_test, y_predict, normalize=False)\n",
        "print(accuracy_score_val)\n",
        "\n",
        "y_probas = clf.predict_proba(X_test_pc)\n",
        "\n",
        "plt.figure()\n",
        "subplot = plot_roc(y_test, y_probas)\n",
        "plt.subplot(subplot)\n",
        "plt.show()"
      ],
      "execution_count": null,
      "outputs": [
        {
          "output_type": "stream",
          "text": [
            "['van' 'opel' 'bus' 'bus' 'bus' 'van' 'van' 'bus' 'opel' 'bus']\n",
            "['van' 'opel' 'saab' 'bus' 'van' 'van' 'van' 'bus' 'saab' 'bus']\n",
            "0.6026936026936027\n",
            "[0.70857143 0.3880597  0.37878788 0.8627451 ]\n",
            "179\n"
          ],
          "name": "stdout"
        },
        {
          "output_type": "display_data",
          "data": {
            "text/plain": [
              "<Figure size 432x288 with 0 Axes>"
            ]
          },
          "metadata": {
            "tags": []
          }
        },
        {
          "output_type": "display_data",
          "data": {
            "image/png": "[encoded data removed]",
            "text/plain": [
              "<Figure size 432x288 with 1 Axes>"
            ]
          },
          "metadata": {
            "tags": [],
            "needs_background": "light"
          }
        }
      ]
    },
    {
      "cell_type": "markdown",
      "metadata": {
        "id": "6EWJmUAI6XOU"
      },
      "source": [
        "We can see that accuracy metrics decreased. Now let's find optimal pca n_components and other parameters using GridSearch."
      ]
    },
    {
      "cell_type": "code",
      "metadata": {
        "nbgrader": {
          "grade": true,
          "grade_id": "cell-12d53ea45258fa82",
          "locked": false,
          "points": 5,
          "schema_version": 2,
          "solution": true
        },
        "id": "9c63nYoyjbIL",
        "colab": {
          "base_uri": "https://localhost:8080/",
          "height": 497
        },
        "outputId": "cfd89a61-09f4-4ee7-8e7b-8b64269a42ab"
      },
      "source": [
        "from sklearn.pipeline import make_pipeline\n",
        "\n",
        "alg = LogisticRegression(multi_class='multinomial', solver='saga', tol=1e-3)\n",
        "pca_alg = make_pipeline(PCA(), alg)\n",
        "\n",
        "param_grid = {\n",
        "    'pca__n_components': range(1, 19),\n",
        "    'logisticregression__penalty': ['l1', 'l2'],\n",
        "    'logisticregression__max_iter': [250, 500, 1000],\n",
        "    'logisticregression__C': np.linspace(0, 1)\n",
        "}\n",
        "search = GridSearchCV(pca_alg, param_grid, n_jobs=-1)\n",
        "clf = search.fit(X_train, y_train)\n",
        "print(\"Best parameters (CV score=%0.3f):\" % search.best_score_)\n",
        "print(search.best_params_)\n",
        "\n",
        "calc_scores(clf)\n",
        "show_roc(clf)"
      ],
      "execution_count": null,
      "outputs": [
        {
          "output_type": "stream",
          "text": [
            "Best parameters (CV score=0.798):\n",
            "{'logisticregression__C': 0.9795918367346939, 'logisticregression__max_iter': 250, 'logisticregression__penalty': 'l1', 'pca__n_components': 18}\n",
            "['van' 'opel' 'bus' 'bus' 'van' 'opel' 'van' 'bus' 'saab' 'bus']\n",
            "['van' 'opel' 'saab' 'bus' 'van' 'van' 'van' 'bus' 'saab' 'bus']\n",
            "0.7676767676767676\n",
            "f1 score:\n",
            "0.7649198844234305\n",
            "accuracy score:\n",
            "0.7676767676767676\n"
          ],
          "name": "stdout"
        },
        {
          "output_type": "stream",
          "text": [
            "/usr/local/lib/python3.7/dist-packages/sklearn/linear_model/_sag.py:330: ConvergenceWarning: The max_iter was reached which means the coef_ did not converge\n",
            "  \"the coef_ did not converge\", ConvergenceWarning)\n"
          ],
          "name": "stderr"
        },
        {
          "output_type": "display_data",
          "data": {
            "text/plain": [
              "<Figure size 432x288 with 0 Axes>"
            ]
          },
          "metadata": {
            "tags": []
          }
        },
        {
          "output_type": "display_data",
          "data": {
            "image/png": "[encoded data removed]",
            "text/plain": [
              "<Figure size 432x288 with 1 Axes>"
            ]
          },
          "metadata": {
            "tags": [],
            "needs_background": "light"
          }
        }
      ]
    },
    {
      "cell_type": "markdown",
      "metadata": {
        "nbgrader": {
          "grade": false,
          "grade_id": "cell-4fbf16c64076e139",
          "locked": true,
          "schema_version": 2,
          "solution": false
        },
        "id": "NpKwt3ujjbIL"
      },
      "source": [
        "#### 2.5. Decision tree\n",
        "* Now train a desicion tree on the same data. Find optimal tree depth (`max_depth`) using cross-validation.\n",
        "\n",
        "* Measure the model quality using the same metrics you used above."
      ]
    },
    {
      "cell_type": "code",
      "metadata": {
        "nbgrader": {
          "grade": true,
          "grade_id": "cell-748ed20b51c67fab",
          "locked": false,
          "points": 15,
          "schema_version": 2,
          "solution": true
        },
        "id": "FT-S4gmQjbIM",
        "colab": {
          "base_uri": "https://localhost:8080/",
          "height": 463
        },
        "outputId": "ebe8084b-3349-4b5d-bf06-3cc0689e785e"
      },
      "source": [
        "from sklearn.tree import DecisionTreeClassifier\n",
        "\n",
        "# YOUR CODE HERE\n",
        "alg = DecisionTreeClassifier(random_state=0)\n",
        "param_grid = {\n",
        "    'max_depth': [10, 20, 30, 50, 100, 200, 300, 400, 500, 1000],\n",
        "}\n",
        "search = GridSearchCV(alg, param_grid, n_jobs=-1)\n",
        "clf = search.fit(X_train, y_train)\n",
        "print(\"Best parameters (CV score=%0.3f):\" % search.best_score_)\n",
        "print(search.best_params_)\n",
        "\n",
        "calc_scores(clf)\n",
        "show_roc(clf)"
      ],
      "execution_count": null,
      "outputs": [
        {
          "output_type": "stream",
          "text": [
            "Best parameters (CV score=0.694):\n",
            "{'max_depth': 20}\n",
            "['van' 'saab' 'opel' 'bus' 'opel' 'saab' 'van' 'bus' 'saab' 'saab']\n",
            "['van' 'opel' 'saab' 'bus' 'van' 'van' 'van' 'bus' 'saab' 'bus']\n",
            "0.6767676767676768\n",
            "f1 score:\n",
            "0.6758944486885663\n",
            "accuracy score:\n",
            "0.6767676767676768\n"
          ],
          "name": "stdout"
        },
        {
          "output_type": "display_data",
          "data": {
            "text/plain": [
              "<Figure size 432x288 with 0 Axes>"
            ]
          },
          "metadata": {
            "tags": []
          }
        },
        {
          "output_type": "display_data",
          "data": {
            "image/png": "[encoded data removed]",
            "text/plain": [
              "<Figure size 432x288 with 1 Axes>"
            ]
          },
          "metadata": {
            "tags": [],
            "needs_background": "light"
          }
        }
      ]
    },
    {
      "cell_type": "markdown",
      "metadata": {
        "id": "7CxK8yah7JBT"
      },
      "source": [
        "Optimal depth of decision tree is 20."
      ]
    },
    {
      "cell_type": "markdown",
      "metadata": {
        "nbgrader": {
          "grade": false,
          "grade_id": "cell-9eadd4d8a03ae67a",
          "locked": true,
          "schema_version": 2,
          "solution": false
        },
        "id": "EcLfWM-ijbIM"
      },
      "source": [
        "#### 2.6. Bagging.\n",
        "Here starts the ensembling part.\n",
        "\n",
        "First we will use the __Bagging__ approach. Build an ensemble of $N$ algorithms varying N from $N_{min}=2$ to $N_{max}=100$ (with step 5).\n",
        "\n",
        "We will build two ensembles: of logistic regressions and of decision trees.\n",
        "\n",
        "*Comment: each ensemble should be constructed from models of the same family, so logistic regressions should not be mixed up with decision trees.*\n",
        "\n",
        "\n",
        "*Hint 1: To build a __Bagging__ ensebmle varying the ensemble size efficiently you might generate $N_{max}$ subsets of `train` data (of the same size as the original dataset) using bootstrap procedure once. Then you train a new instance of logistic regression/decision tree with optimal hyperparameters you estimated before on each subset (so you train it from scratch). Finally, to get an ensemble of $N$ models you average the $N$ out of $N_{max}$ models predictions.*\n",
        "\n",
        "*Hint 2: sklearn might help you with this taks. Some appropriate function/class might be out there.*\n",
        "\n",
        "* Plot `f1` and `accuracy` scores plots w.r.t. the size of the ensemble.\n",
        "\n",
        "* Briefly analyse the plot. What is the optimal number of algorithms? Explain your answer.\n",
        "\n",
        "* How do you think, are the hyperparameters for the decision trees you found in 2.5 optimal for trees used in ensemble? "
      ]
    },
    {
      "cell_type": "code",
      "metadata": {
        "colab": {
          "base_uri": "https://localhost:8080/",
          "height": 1000
        },
        "id": "NsCL_U4jBBJg",
        "outputId": "909572b5-1319-40fd-cffa-6704e15faf00"
      },
      "source": [
        "from sklearn.ensemble import BaggingClassifier\n",
        "from sklearn.linear_model import LogisticRegression\n",
        "from sklearn.tree import DecisionTreeClassifier\n",
        "from sklearn.linear_model import LogisticRegression\n",
        "from sklearn.metrics import f1_score\n",
        "from sklearn.metrics import accuracy_score\n",
        "\n",
        "log = LogisticRegression(multi_class='multinomial', solver='saga', tol=1e-3, max_iter=500)\n",
        "f1 = []\n",
        "accuracy = []\n",
        "for i in np.arange(2, 100, 5):\n",
        "    bag_log = BaggingClassifier(log, n_estimators=i, max_samples=0.8, max_features=1.0)\n",
        "    clf = bag_log.fit(X_train, y_train)\n",
        "    y_predict = clf.predict(X_test)\n",
        "    f1_score_val = f1_score(y_test, y_predict, average=\"macro\")\n",
        "    f1.append(f1_score_val)\n",
        "    accuracy_score_val = accuracy_score(y_test, y_predict, normalize=True)\n",
        "    accuracy.append(accuracy_score_val)\n",
        "\n",
        "plt.figure()\n",
        "plt.title(\"Accuracy score\")\n",
        "plt.xlabel('Number of models')\n",
        "plt.plot(np.arange(2, 100, 5), accuracy)\n",
        "plt.show()\n",
        "\n",
        "plt.figure()\n",
        "plt.title(\"f1 score\")\n",
        "plt.xlabel('Number of models')\n",
        "plt.plot(np.arange(2, 100, 5), f1)\n",
        "plt.show()"
      ],
      "execution_count": null,
      "outputs": [
        {
          "output_type": "stream",
          "text": [
            "/usr/local/lib/python3.7/dist-packages/sklearn/linear_model/_sag.py:330: ConvergenceWarning: The max_iter was reached which means the coef_ did not converge\n",
            "  \"the coef_ did not converge\", ConvergenceWarning)\n",
            "/usr/local/lib/python3.7/dist-packages/sklearn/linear_model/_sag.py:330: ConvergenceWarning: The max_iter was reached which means the coef_ did not converge\n",
            "  \"the coef_ did not converge\", ConvergenceWarning)\n",
            "/usr/local/lib/python3.7/dist-packages/sklearn/linear_model/_sag.py:330: ConvergenceWarning: The max_iter was reached which means the coef_ did not converge\n",
            "  \"the coef_ did not converge\", ConvergenceWarning)\n",
            "/usr/local/lib/python3.7/dist-packages/sklearn/linear_model/_sag.py:330: ConvergenceWarning: The max_iter was reached which means the coef_ did not converge\n",
            "  \"the coef_ did not converge\", ConvergenceWarning)\n",
            "/usr/local/lib/python3.7/dist-packages/sklearn/linear_model/_sag.py:330: ConvergenceWarning: The max_iter was reached which means the coef_ did not converge\n",
            "  \"the coef_ did not converge\", ConvergenceWarning)\n",
            "/usr/local/lib/python3.7/dist-packages/sklearn/linear_model/_sag.py:330: ConvergenceWarning: The max_iter was reached which means the coef_ did not converge\n",
            "  \"the coef_ did not converge\", ConvergenceWarning)\n",
            "/usr/local/lib/python3.7/dist-packages/sklearn/linear_model/_sag.py:330: ConvergenceWarning: The max_iter was reached which means the coef_ did not converge\n",
            "  \"the coef_ did not converge\", ConvergenceWarning)\n",
            "/usr/local/lib/python3.7/dist-packages/sklearn/linear_model/_sag.py:330: ConvergenceWarning: The max_iter was reached which means the coef_ did not converge\n",
            "  \"the coef_ did not converge\", ConvergenceWarning)\n",
            "/usr/local/lib/python3.7/dist-packages/sklearn/linear_model/_sag.py:330: ConvergenceWarning: The max_iter was reached which means the coef_ did not converge\n",
            "  \"the coef_ did not converge\", ConvergenceWarning)\n",
            "/usr/local/lib/python3.7/dist-packages/sklearn/linear_model/_sag.py:330: ConvergenceWarning: The max_iter was reached which means the coef_ did not converge\n",
            "  \"the coef_ did not converge\", ConvergenceWarning)\n",
            "/usr/local/lib/python3.7/dist-packages/sklearn/linear_model/_sag.py:330: ConvergenceWarning: The max_iter was reached which means the coef_ did not converge\n",
            "  \"the coef_ did not converge\", ConvergenceWarning)\n",
            "/usr/local/lib/python3.7/dist-packages/sklearn/linear_model/_sag.py:330: ConvergenceWarning: The max_iter was reached which means the coef_ did not converge\n",
            "  \"the coef_ did not converge\", ConvergenceWarning)\n",
            "/usr/local/lib/python3.7/dist-packages/sklearn/linear_model/_sag.py:330: ConvergenceWarning: The max_iter was reached which means the coef_ did not converge\n",
            "  \"the coef_ did not converge\", ConvergenceWarning)\n",
            "/usr/local/lib/python3.7/dist-packages/sklearn/linear_model/_sag.py:330: ConvergenceWarning: The max_iter was reached which means the coef_ did not converge\n",
            "  \"the coef_ did not converge\", ConvergenceWarning)\n",
            "/usr/local/lib/python3.7/dist-packages/sklearn/linear_model/_sag.py:330: ConvergenceWarning: The max_iter was reached which means the coef_ did not converge\n",
            "  \"the coef_ did not converge\", ConvergenceWarning)\n",
            "/usr/local/lib/python3.7/dist-packages/sklearn/linear_model/_sag.py:330: ConvergenceWarning: The max_iter was reached which means the coef_ did not converge\n",
            "  \"the coef_ did not converge\", ConvergenceWarning)\n",
            "/usr/local/lib/python3.7/dist-packages/sklearn/linear_model/_sag.py:330: ConvergenceWarning: The max_iter was reached which means the coef_ did not converge\n",
            "  \"the coef_ did not converge\", ConvergenceWarning)\n"
          ],
          "name": "stderr"
        },
        {
          "output_type": "display_data",
          "data": {
            "image/png": "[encoded data removed]",
            "text/plain": [
              "<Figure size 432x288 with 1 Axes>"
            ]
          },
          "metadata": {
            "tags": [],
            "needs_background": "light"
          }
        },
        {
          "output_type": "display_data",
          "data": {
            "image/png": "[encoded data removed]",
            "text/plain": [
              "<Figure size 432x288 with 1 Axes>"
            ]
          },
          "metadata": {
            "tags": [],
            "needs_background": "light"
          }
        }
      ]
    },
    {
      "cell_type": "markdown",
      "metadata": {
        "id": "wgV2e-yQIfoo"
      },
      "source": [
        "~33 n_estimators is optimal parameter. Since the models in ensemble are similar the accuracy is jumping around some mean value. It's not good because accuracy doesn't rise with number of models.\n"
      ]
    },
    {
      "cell_type": "code",
      "metadata": {
        "colab": {
          "base_uri": "https://localhost:8080/",
          "height": 573
        },
        "id": "ZlDRtnhYCOkV",
        "outputId": "f0255698-d402-4d4c-9c43-a5c105e7fe99"
      },
      "source": [
        "from sklearn.ensemble import BaggingClassifier\n",
        "from sklearn.linear_model import LogisticRegression\n",
        "from sklearn.tree import DecisionTreeClassifier\n",
        "from sklearn.linear_model import LogisticRegression\n",
        "from sklearn.metrics import f1_score\n",
        "from sklearn.metrics import accuracy_score\n",
        "\n",
        "tree = DecisionTreeClassifier()\n",
        "f1 = []\n",
        "accuracy = []\n",
        "for i in np.arange(2, 100, 5):\n",
        "    bag_tree = BaggingClassifier(tree, n_estimators=i, max_samples=0.8, max_features=1.0)\n",
        "    clf = bag_tree.fit(X_train, y_train)\n",
        "    y_predict = clf.predict(X_test)\n",
        "    f1_score_val = f1_score(y_test, y_predict, average=\"macro\")\n",
        "    f1.append(f1_score_val)\n",
        "    accuracy_score_val = accuracy_score(y_test, y_predict, normalize=True)\n",
        "    accuracy.append(accuracy_score_val)\n",
        "\n",
        "plt.figure()\n",
        "plt.title(\"Accuracy score\")\n",
        "plt.xlabel('Number of trees')\n",
        "plt.plot(np.arange(2, 100, 5), accuracy)\n",
        "plt.show()\n",
        "\n",
        "plt.figure()\n",
        "plt.title(\"f1 score\")\n",
        "plt.xlabel('Number of trees')\n",
        "plt.plot(np.arange(2, 100, 5), f1)\n",
        "plt.show()"
      ],
      "execution_count": null,
      "outputs": [
        {
          "output_type": "display_data",
          "data": {
            "image/png": "[encoded data removed]",
            "text/plain": [
              "<Figure size 432x288 with 1 Axes>"
            ]
          },
          "metadata": {
            "tags": [],
            "needs_background": "light"
          }
        },
        {
          "output_type": "display_data",
          "data": {
            "image/png": "[encoded data removed]",
            "text/plain": [
              "<Figure size 432x288 with 1 Axes>"
            ]
          },
          "metadata": {
            "tags": [],
            "needs_background": "light"
          }
        }
      ]
    },
    {
      "cell_type": "markdown",
      "metadata": {
        "id": "vAdU1KPNI_2n"
      },
      "source": [
        "~20 n_estimators is optimal parameter. Accuracy isn't improved significantly after 20 trees. The parameters found in 2.5 shouldn't be optimal for trees in ensemble because ensemle work best with different overtrained models."
      ]
    },
    {
      "cell_type": "markdown",
      "metadata": {
        "nbgrader": {
          "grade": false,
          "grade_id": "cell-241b7691ab44cbfb",
          "locked": true,
          "schema_version": 2,
          "solution": false
        },
        "id": "esx1Pzf1jbIN"
      },
      "source": [
        "#### 2.7. Random Forest\n",
        "Now we will work with the Random Forest (its `sklearn` implementation).\n",
        "\n",
        "* * Plot `f1` and `accuracy` scores plots w.r.t. the number of trees in Random Forest.\n",
        "\n",
        "* What is the optimal number of trees you've got? Is it different from the optimal number of logistic regressions/decision trees in 2.6? Explain the results briefly."
      ]
    },
    {
      "cell_type": "code",
      "metadata": {
        "colab": {
          "base_uri": "https://localhost:8080/",
          "height": 573
        },
        "id": "bBCpnYr9GLpz",
        "outputId": "f7f44af7-e937-40dd-deb5-853dc2dc62c8"
      },
      "source": [
        "from sklearn.ensemble import RandomForestClassifier\n",
        "\n",
        "f1 = []\n",
        "accuracy = []\n",
        "for i in np.arange(2, 100, 5):\n",
        "    rf = RandomForestClassifier(max_depth=2, n_estimators=i, random_state=0)\n",
        "    clf = rf.fit(X_train, y_train)\n",
        "    y_predict = clf.predict(X_test)\n",
        "    f1_score_val = f1_score(y_test, y_predict, average=\"macro\")\n",
        "    f1.append(f1_score_val)\n",
        "    accuracy_score_val = accuracy_score(y_test, y_predict, normalize=True)\n",
        "    accuracy.append(accuracy_score_val)\n",
        "\n",
        "plt.figure()\n",
        "plt.title(\"Accuracy scores\")\n",
        "plt.xlabel('Number of trees')\n",
        "plt.plot(np.arange(2, 100, 5), accuracy)\n",
        "plt.show()\n",
        "\n",
        "plt.figure()\n",
        "plt.title(\"f1 scores\")\n",
        "plt.xlabel('Number of trees')\n",
        "plt.plot(np.arange(2, 100, 5), f1)\n",
        "plt.show()"
      ],
      "execution_count": null,
      "outputs": [
        {
          "output_type": "display_data",
          "data": {
            "image/png": "[encoded data removed]",
            "text/plain": [
              "<Figure size 432x288 with 1 Axes>"
            ]
          },
          "metadata": {
            "tags": [],
            "needs_background": "light"
          }
        },
        {
          "output_type": "display_data",
          "data": {
            "image/png": "[encoded data removed]",
            "text/plain": [
              "<Figure size 432x288 with 1 Axes>"
            ]
          },
          "metadata": {
            "tags": [],
            "needs_background": "light"
          }
        }
      ]
    },
    {
      "cell_type": "markdown",
      "metadata": {
        "id": "z00kc4k2MgsG"
      },
      "source": [
        "We've got the similar optimal results with ensemble of desision trees in 2.6. It's similar because in both cases we use randomization for building different tree models. But as you can see in this case RandomForest is a bit better."
      ]
    },
    {
      "cell_type": "markdown",
      "metadata": {
        "nbgrader": {
          "grade": false,
          "grade_id": "cell-99191c0852538d4d",
          "locked": true,
          "schema_version": 2,
          "solution": false
        },
        "id": "EXd6gxOqjbIO"
      },
      "source": [
        "#### 2.8. Learning curve\n",
        "Your goal is to estimate, how does the model behaviour change with the increase of the `train` dataset size.\n",
        "\n",
        "* Split the training data into 10 equal (almost) parts. Then train the models from above (Logistic regression, Desicion Tree, Random Forest) with optimal hyperparameters you have selected on 1 part, 2 parts (combined, so the train size in increased by 2 times), 3 parts and so on.\n",
        "\n",
        "* Build a plot of `accuracy` and `f1` scores on `test` part, varying the `train` dataset size (so the axes will be score - dataset size.\n",
        "\n",
        "* Analyse the final plot. Can you make any conlusions using it? "
      ]
    },
    {
      "cell_type": "code",
      "metadata": {
        "nbgrader": {
          "grade": true,
          "grade_id": "cell-e39bc7e7dff61ff9",
          "locked": false,
          "points": 15,
          "schema_version": 2,
          "solution": true
        },
        "id": "N2jrJ9UYjbIO"
      },
      "source": [
        "import math\n",
        "from sklearn.linear_model import LogisticRegression\n",
        "from sklearn.tree import DecisionTreeClassifier\n",
        "from sklearn.ensemble import RandomForestClassifier\n",
        "from sklearn.metrics import f1_score\n",
        "from sklearn.metrics import accuracy_score\n",
        "\n",
        "log = LogisticRegression(multi_class='multinomial', solver='saga', tol=1e-3, max_iter=500, C=1, penalty='l1')\n",
        "tree = DecisionTreeClassifier(random_state=0, max_depth=20)\n",
        "rf = RandomForestClassifier(random_state=0, n_estimators=50)\n",
        "\n",
        "parts_N = 10\n",
        "part_size = math.ceil(len(y_train)/parts_N)\n",
        "accuracy = []\n",
        "f1 = []\n",
        "for train_len in range(part_size, len(y_train), part_size):\n",
        "    clf_log = log.fit(X_test[:train_len, :], y_test[:train_len])\n",
        "    y_predict = clf_log.predict(X_test)\n",
        "    log_score = accuracy_score(y_test, y_predict, normalize=True)\n",
        "    f1_log = f1_score(y_test, y_predict, average=\"macro\")\n",
        "    clf_tree = tree.fit(X_test[:train_len, :], y_test[:train_len])\n",
        "    y_predict = clf_tree.predict(X_test)\n",
        "    tree_score = accuracy_score(y_test, y_predict, normalize=True)\n",
        "    f1_tree = f1_score(y_test, y_predict, average=\"macro\")\n",
        "    clf_rf = rf.fit(X_test[:train_len, :], y_test[:train_len])\n",
        "    y_predict = clf_rf.predict(X_test)\n",
        "    rf_score = accuracy_score(y_test, y_predict, normalize=True)\n",
        "    f1_rf = f1_score(y_test, y_predict, average=\"macro\")\n",
        "    accuracy.append([log_score, tree_score, rf_score])\n",
        "    f1.append([f1_log, f1_tree, f1_rf])"
      ],
      "execution_count": null,
      "outputs": []
    },
    {
      "cell_type": "code",
      "metadata": {
        "id": "BCOzld1OfxhZ",
        "colab": {
          "base_uri": "https://localhost:8080/",
          "height": 573
        },
        "outputId": "53e5b470-3f0f-4117-c401-4910b34b6a25"
      },
      "source": [
        "import matplotlib.pyplot as plt\n",
        "\n",
        "plt.figure()\n",
        "x = np.linspace(part_size, len(y_train), parts_N-1)\n",
        "plt.title(\"Accuracy score\")\n",
        "plt.xlabel('Train dataset size')\n",
        "plt.plot(x, accuracy)\n",
        "plt.legend([\"LogisticRegression\", \"DecisionTreeClassifier\", \"RandomForestClassifier\"])\n",
        "plt.show()\n",
        "\n",
        "plt.figure()\n",
        "x = np.linspace(part_size, len(y_train), parts_N-1)\n",
        "plt.title(\"f1 score\")\n",
        "plt.xlabel('Train dataset size')\n",
        "plt.plot(x, f1)\n",
        "plt.legend([\"LogisticRegression\", \"DecisionTreeClassifier\", \"RandomForestClassifier\"])\n",
        "plt.show()"
      ],
      "execution_count": null,
      "outputs": [
        {
          "output_type": "display_data",
          "data": {
            "image/png": "[encoded data removed]",
            "text/plain": [
              "<Figure size 432x288 with 1 Axes>"
            ]
          },
          "metadata": {
            "tags": [],
            "needs_background": "light"
          }
        },
        {
          "output_type": "display_data",
          "data": {
            "image/png": "[encoded data removed]",
            "text/plain": [
              "<Figure size 432x288 with 1 Axes>"
            ]
          },
          "metadata": {
            "tags": [],
            "needs_background": "light"
          }
        }
      ]
    },
    {
      "cell_type": "markdown",
      "metadata": {
        "id": "UgdCOGRuOaic"
      },
      "source": [
        "Accuracy reaches the maximum at ~500 points. We can reduce a train set size."
      ]
    }
  ]
}