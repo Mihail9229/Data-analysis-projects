{
  "nbformat": 4,
  "nbformat_minor": 0,
  "metadata": {
    "anaconda-cloud": {},
    "kernelspec": {
      "name": "python390jvsc74a57bd007617c492f28452b3b9a315fd8d2a813c6349e61d094467e27963bda370dfaf8",
      "display_name": "Python 3.9.0 64-bit ('.venv': venv)"
    },
    "language_info": {
      "codemirror_mode": {
        "name": "ipython",
        "version": 3
      },
      "file_extension": ".py",
      "mimetype": "text/x-python",
      "name": "python",
      "nbconvert_exporter": "python",
      "pygments_lexer": "ipython3",
      "version": "3.9.0"
    },
    "colab": {
      "name": "Lab2_DL_part3_poetry.ipynb",
      "provenance": []
    }
  },
  "cells": [
    {
      "cell_type": "markdown",
      "metadata": {
        "id": "dfdLmS2tTmLR"
      },
      "source": [
        "## Lab 2"
      ]
    },
    {
      "cell_type": "markdown",
      "metadata": {
        "id": "QuUkA3KXTmLS"
      },
      "source": [
        "### Part 3. Poetry generation\n",
        "\n",
        "Let's try to generate some poetry using RNNs. \n",
        "\n",
        "You have several choices here: \n",
        "\n",
        "* The Shakespeare sonnets, file `sonnets.txt` available in the notebook directory.\n",
        "\n",
        "* Роман в стихах \"Евгений Онегин\" Александра Сергеевича Пушкина. В предобработанном виде доступен по [ссылке](https://github.com/attatrol/data_sources/blob/master/onegin.txt).\n",
        "\n",
        "* Some other text source, if it will be approved by the course staff.\n",
        "\n",
        "Text generation can be designed in several steps:\n",
        "    \n",
        "1. Data loading.\n",
        "2. Dictionary generation.\n",
        "3. Data preprocessing.\n",
        "4. Model (neural network) training.\n",
        "5. Text generation (model evaluation).\n"
      ]
    },
    {
      "cell_type": "code",
      "metadata": {
        "id": "78rK0PfxTmLT"
      },
      "source": [
        "import string\n",
        "import os"
      ],
      "execution_count": 1,
      "outputs": []
    },
    {
      "cell_type": "markdown",
      "metadata": {
        "id": "0Z3cUwugTmLT"
      },
      "source": [
        "### Data loading: Shakespeare"
      ]
    },
    {
      "cell_type": "markdown",
      "metadata": {
        "id": "z8cG_1O6TmLU"
      },
      "source": [
        "Shakespeare sonnets are awailable at this [link](http://www.gutenberg.org/ebooks/1041?msg=welcome_stranger). In addition, they are stored in the same directory as this notebook (`sonnetes.txt`). Simple preprocessing is already done for you in the next cell: all technical info is dropped."
      ]
    },
    {
      "cell_type": "code",
      "metadata": {
        "collapsed": true,
        "id": "oS8ZIjq1TmLU"
      },
      "source": [
        "if not os.path.exists('sonnets.txt'):\n",
        "    !wget https://raw.githubusercontent.com/girafe-ai/ml-mipt/master/homeworks_basic/Lab2_DL/sonnets.txt\n",
        "\n",
        "with open('sonnets.txt', 'r') as iofile:\n",
        "    text = iofile.readlines()\n",
        "    \n",
        "TEXT_START = 45\n",
        "TEXT_END = -368\n",
        "text = text[TEXT_START : TEXT_END]\n",
        "assert len(text) == 2616"
      ],
      "execution_count": 2,
      "outputs": []
    },
    {
      "cell_type": "markdown",
      "metadata": {
        "id": "TXvt6jMuTmLV"
      },
      "source": [
        "In opposite to the in-class practice, this time we want to predict complex text. Let's reduce the complexity of the task and lowercase all the symbols.\n",
        "\n",
        "Now variable `text` is a list of strings. Join all the strings into one and lowercase it."
      ]
    },
    {
      "cell_type": "code",
      "metadata": {
        "tags": [],
        "colab": {
          "base_uri": "https://localhost:8080/"
        },
        "id": "6lD39sldTmLV",
        "outputId": "d9ea1a00-c528-4f30-ddcb-36089e9ae351"
      },
      "source": [
        "# Join all the strings into one and lowercase it\n",
        "# Put result into variable text.\n",
        "\n",
        "# Your great code here\n",
        "text_lines = list(map(lambda s: s.lower(), text))\n",
        "\n",
        "text = (''.join(text)).lower()\n",
        "print(len(text))\n",
        "out = text\n",
        "\n",
        "assert len(text) == 100225, 'Are you sure you have concatenated all the strings?'\n",
        "assert not any([x in set(text) for x in string.ascii_uppercase]), 'Uppercase letters are present'\n",
        "print('OK!')"
      ],
      "execution_count": 3,
      "outputs": [
        {
          "output_type": "stream",
          "text": [
            "100225\n",
            "OK!\n"
          ],
          "name": "stdout"
        }
      ]
    },
    {
      "cell_type": "markdown",
      "metadata": {
        "id": "t5Aj7b6HTmLV"
      },
      "source": [
        "### Data loading: \"Евгений Онегин\"\n"
      ]
    },
    {
      "cell_type": "code",
      "metadata": {
        "colab": {
          "base_uri": "https://localhost:8080/"
        },
        "id": "Qeht8shQTmLW",
        "outputId": "e69fbcd0-35c0-4dcc-e16d-4b818dac09d7"
      },
      "source": [
        "if not os.path.exists('onegin.txt'):\n",
        "    !wget https://raw.githubusercontent.com/attatrol/data_sources/master/onegin.txt\n",
        "\n",
        "import codecs\n",
        "\n",
        "with codecs.open(\"onegin.txt\", \"r\", \"utf_8_sig\") as iofile:\n",
        "    text = iofile.readlines()\n",
        "    \n",
        "text = [x.replace('\\t\\t', '') for x in text]\n",
        "\n",
        "len(text)"
      ],
      "execution_count": 4,
      "outputs": [
        {
          "output_type": "execute_result",
          "data": {
            "text/plain": [
              "7088"
            ]
          },
          "metadata": {
            "tags": []
          },
          "execution_count": 4
        }
      ]
    },
    {
      "cell_type": "markdown",
      "metadata": {
        "id": "hnr6duiETmLW"
      },
      "source": [
        "In opposite to the in-class practice, this time we want to predict complex text. Let's reduce the complexity of the task and lowercase all the symbols.\n",
        "\n",
        "Now variable `text` is a list of strings. Join all the strings into one and lowercase it."
      ]
    },
    {
      "cell_type": "code",
      "metadata": {
        "id": "26uqfjNqTmLX"
      },
      "source": [
        "# Join all the strings into one and lowercase it\n",
        "# Put result into variable text.\n",
        "\n",
        "# Your great code here\n",
        "\n",
        "# out = (''.join(text)).lower()"
      ],
      "execution_count": 5,
      "outputs": []
    },
    {
      "cell_type": "markdown",
      "metadata": {
        "id": "qcUm7X25TmLX"
      },
      "source": [
        "Put all the characters, that you've seen in the text, into variable `tokens`."
      ]
    },
    {
      "cell_type": "code",
      "metadata": {
        "colab": {
          "base_uri": "https://localhost:8080/"
        },
        "id": "rPUCQeMJTmLX",
        "outputId": "1657e289-4442-417e-f2b0-799c738c299c"
      },
      "source": [
        "tokens = sorted(set(out))\n",
        "\n",
        "len(tokens)"
      ],
      "execution_count": 6,
      "outputs": [
        {
          "output_type": "execute_result",
          "data": {
            "text/plain": [
              "38"
            ]
          },
          "metadata": {
            "tags": []
          },
          "execution_count": 6
        }
      ]
    },
    {
      "cell_type": "markdown",
      "metadata": {
        "id": "wmElDVbeTmLX"
      },
      "source": [
        "Create dictionary `token_to_idx = {<char>: <index>}` and dictionary `idx_to_token = {<index>: <char>}`"
      ]
    },
    {
      "cell_type": "code",
      "metadata": {
        "collapsed": true,
        "id": "sjEDvRaSTmLY"
      },
      "source": [
        "# dict <index>:<char>\n",
        "# Your great code here\n",
        "idx_to_token = list(tokens)\n",
        "\n",
        "# dict <char>:<index>\n",
        "# Your great code here\n",
        "token_to_idx = {}\n",
        "for i in range(len(tokens)):\n",
        "    token_to_idx[tokens[i]] = i"
      ],
      "execution_count": 7,
      "outputs": []
    },
    {
      "cell_type": "markdown",
      "metadata": {
        "id": "g605YIN2TmLY"
      },
      "source": [
        "*Comment: in this task we have only 38 different tokens, so let's use one-hot encoding.*"
      ]
    },
    {
      "cell_type": "markdown",
      "metadata": {
        "id": "SHl3mFVrTmLY"
      },
      "source": [
        "### Building the model"
      ]
    },
    {
      "cell_type": "markdown",
      "metadata": {
        "id": "EiEWi0zETmLZ"
      },
      "source": [
        "Now we want to build and train recurrent neural net which would be able to something similar to Shakespeare's poetry.\n",
        "\n",
        "Let's use vanilla RNN, similar to the one created during the lesson."
      ]
    },
    {
      "cell_type": "code",
      "metadata": {
        "collapsed": true,
        "id": "-6QG_pRhTmLZ"
      },
      "source": [
        "# Your code here\n",
        "\n",
        "import numpy as np\n",
        "\n",
        "def to_matrix(lines, max_len=None, pad=token_to_idx[' '], dtype='int32', batch_first=True):\n",
        "    max_len = max_len or max(map(len, lines))\n",
        "    lines_ix = np.zeros([len(lines), max_len], dtype) + pad\n",
        "\n",
        "    for i in range(len(lines)):\n",
        "        line_ix = [token_to_idx[c] for c in lines[i]]\n",
        "        lines_ix[i, :len(line_ix)] = line_ix\n",
        "\n",
        "    if not batch_first:\n",
        "        lines_ix = np.transpose(lines_ix)\n",
        "\n",
        "    return lines_ix"
      ],
      "execution_count": 8,
      "outputs": []
    },
    {
      "cell_type": "markdown",
      "metadata": {
        "id": "uZQHqDpATmLZ"
      },
      "source": [
        "Plot the loss function (axis X: number of epochs, axis Y: loss function)."
      ]
    },
    {
      "cell_type": "code",
      "metadata": {
        "colab": {
          "base_uri": "https://localhost:8080/"
        },
        "id": "uZjBHuZhTmLZ",
        "outputId": "9563c4bd-a181-406e-989a-bcc453ac1034"
      },
      "source": [
        "text_lines[:2]\n",
        "\n",
        "print(text_lines[:2])\n",
        "print(to_matrix(text_lines[:2]))"
      ],
      "execution_count": 9,
      "outputs": [
        {
          "output_type": "stream",
          "text": [
            "['  from fairest creatures we desire increase,\\n', \"  that thereby beauty's rose might never die,\\n\"]\n",
            "[[ 1  1 17 29 26 24  1 17 12 20 29 16 30 31  1 14 29 16 12 31 32 29 16 30\n",
            "   1 34 16  1 15 16 30 20 29 16  1 20 25 14 29 16 12 30 16  6  0  1]\n",
            " [ 1  1 31 19 12 31  1 31 19 16 29 16 13 36  1 13 16 12 32 31 36  3 30  1\n",
            "  29 26 30 16  1 24 20 18 19 31  1 25 16 33 16 29  1 15 20 16  6  0]]\n"
          ],
          "name": "stdout"
        }
      ]
    },
    {
      "cell_type": "code",
      "metadata": {
        "id": "C_2hzaRGTmLa"
      },
      "source": [
        "STATE_LENGTH = 128\n",
        "LINE_MAX_LENGTH = 64\n",
        "TOKENS_LENGTH = len(tokens)\n",
        "BATCH_LENGTH = 32\n"
      ],
      "execution_count": 10,
      "outputs": []
    },
    {
      "cell_type": "code",
      "metadata": {
        "id": "TEcFLuefTmLa"
      },
      "source": [
        "import torch\n",
        "import torch.nn as nn\n",
        "\n",
        "class CharRNNCell(nn.Module):\n",
        "    def __init__(self, num_tokens=TOKENS_LENGTH, embedding_size=LINE_MAX_LENGTH, rnn_num_units=STATE_LENGTH):\n",
        "        super(self.__class__, self).__init__()\n",
        "        self.num_units = rnn_num_units\n",
        "        self.embedding = nn.Embedding(num_tokens, embedding_size)\n",
        "        self.rnn_update = nn.Linear(embedding_size + rnn_num_units, rnn_num_units)\n",
        "        self.rnn_to_logits = nn.Linear(rnn_num_units, num_tokens)\n",
        "\n",
        "    def forward(self, x, h_prev):\n",
        "        x_emb = self.embedding(x)\n",
        "        x_and_h = torch.cat([x_emb, h_prev], dim=1)\n",
        "        h_next = self.rnn_update(x_and_h)\n",
        "        h_next = torch.tanh(h_next)\n",
        "\n",
        "        assert h_next.size() == h_prev.size()\n",
        "\n",
        "        logits = self.rnn_to_logits(h_next)\n",
        "\n",
        "        return h_next, nn.functional.log_softmax(logits, -1)\n",
        "    \n",
        "    def init_hidden(self, batch_size):\n",
        "        return torch.zeros(batch_size, self.num_units, requires_grad=True)\n"
      ],
      "execution_count": 11,
      "outputs": []
    },
    {
      "cell_type": "code",
      "metadata": {
        "id": "qKbVqaNmTmLb"
      },
      "source": [
        "char_rnn = CharRNNCell()\n",
        "criterion = nn.NLLLoss()"
      ],
      "execution_count": 12,
      "outputs": []
    },
    {
      "cell_type": "code",
      "metadata": {
        "id": "w6wq_AneTmLb"
      },
      "source": [
        "def rnn_loop(char_rnn, batch_ix):\n",
        "    batch_size, max_length = batch_ix.size()\n",
        "    hid_state = char_rnn.init_hidden(batch_size)\n",
        "    logprobs = []\n",
        "\n",
        "    for x_t in batch_ix.transpose(0, 1):\n",
        "        hid_state, logp_next = char_rnn(x_t, hid_state)\n",
        "        logprobs.append(logp_next)\n",
        "\n",
        "    return torch.stack(logprobs, dim=1)\n"
      ],
      "execution_count": 13,
      "outputs": []
    },
    {
      "cell_type": "code",
      "metadata": {
        "id": "9Y01PoNRTmLb"
      },
      "source": [
        "batch_ix = to_matrix(text_lines[:5])\n",
        "batch_ix = torch.tensor(batch_ix, dtype=torch.int64)\n",
        "\n",
        "logp_seq = rnn_loop(char_rnn, batch_ix)\n",
        "\n",
        "assert torch.max(logp_seq).data.numpy() <= 0"
      ],
      "execution_count": 14,
      "outputs": []
    },
    {
      "cell_type": "code",
      "metadata": {
        "id": "79v7XLt1TmLb"
      },
      "source": [
        "from IPython.display import clear_output\n",
        "from matplotlib import pyplot as plt\n",
        "from random import sample\n",
        "\n",
        "char_rnn = CharRNNCell()\n",
        "criterion = nn.NLLLoss()\n",
        "opt = torch.optim.Adam(char_rnn.parameters())\n",
        "loss_history = []"
      ],
      "execution_count": 15,
      "outputs": []
    },
    {
      "cell_type": "code",
      "metadata": {
        "colab": {
          "base_uri": "https://localhost:8080/",
          "height": 315
        },
        "id": "4Rt7wcGrTmLc",
        "outputId": "702df227-1ec2-4468-a7e9-b12d84f65c3a"
      },
      "source": [
        "\n",
        "for i in range(1000):\n",
        "    batch_ix = to_matrix(sample(text_lines, BATCH_LENGTH), max_len=LINE_MAX_LENGTH)\n",
        "    batch_ix = torch.tensor(batch_ix, dtype=torch.int64)\n",
        "\n",
        "    logp_seq = rnn_loop(char_rnn, batch_ix)\n",
        "    prediction_logp = logp_seq[:, :-1]\n",
        "    actual_next_tokens = batch_ix[:, 1:]\n",
        "    loss = criterion(prediction_logp.contiguous().view(-1, TOKENS_LENGTH), actual_next_tokens.contiguous().view(-1))\n",
        "\n",
        "    loss.backward()\n",
        "    opt.step()\n",
        "    opt.zero_grad()\n",
        "\n",
        "    loss_item = loss.item()\n",
        "    loss_history.append(loss_item)\n",
        "    if (i+1)%10 == 0:\n",
        "        clear_output(True)\n",
        "        print('\\ni: {} Loss: {:.4f}\\n'.format(i, loss_item))\n",
        "\n",
        "        plt.plot(loss_history, label='loss')\n",
        "        plt.legend()\n",
        "        plt.show()\n"
      ],
      "execution_count": 16,
      "outputs": [
        {
          "output_type": "stream",
          "text": [
            "\n",
            "i: 999 Loss: 0.9617\n",
            "\n"
          ],
          "name": "stdout"
        },
        {
          "output_type": "display_data",
          "data": {
            "image/png": "[encoded data removed]",
            "text/plain": [
              "<Figure size 432x288 with 1 Axes>"
            ]
          },
          "metadata": {
            "tags": [],
            "needs_background": "light"
          }
        }
      ]
    },
    {
      "cell_type": "code",
      "metadata": {
        "collapsed": true,
        "id": "wkQZdovITmLc"
      },
      "source": [
        "# Your plot code here"
      ],
      "execution_count": 17,
      "outputs": []
    },
    {
      "cell_type": "code",
      "metadata": {
        "id": "U-cFy4g_TmLc"
      },
      "source": [
        "def generate_sample(rnn, seed_phrase=' ', max_length=LINE_MAX_LENGTH, temperature=1.0):\n",
        "    '''\n",
        "    ### Disclaimer: this is an example function for text generation.\n",
        "    ### You can either adapt it in your code or create your own function\n",
        "    \n",
        "    The function generates text given a phrase of length at least SEQ_LENGTH.\n",
        "    :param seed_phrase: prefix characters. The RNN is asked to continue the phrase\n",
        "    :param max_length: maximum output length, including seed_phrase\n",
        "    :param temperature: coefficient for sampling.  higher temperature produces more chaotic outputs, \n",
        "        smaller temperature converges to the single most likely output.\n",
        "        \n",
        "    Be careful with the model output. This model waits logits (not probabilities/log-probabilities)\n",
        "    of the next symbol.\n",
        "    '''\n",
        "    \n",
        "    x_sequence = [token_to_idx[c] for c in seed_phrase]\n",
        "    x_sequence = torch.tensor([x_sequence], dtype=torch.int64)\n",
        "    hid_state = rnn.init_hidden(batch_size = 1)\n",
        "    \n",
        "    #feed the seed phrase, if any\n",
        "    for i in range(1, len(seed_phrase)):\n",
        "        # print(x_sequence[:, -1].shape, hid_state.shape)\n",
        "        hid_state, out = rnn(x_sequence[:, i], hid_state)\n",
        "    \n",
        "    #start generating\n",
        "    for _ in range(LINE_MAX_LENGTH - len(seed_phrase)):\n",
        "        # print(x_sequence.shape, x_sequence, hid_state.shape)\n",
        "        hid_state, out = rnn(x_sequence[:, -1], hid_state)\n",
        "        # Be really careful here with the model output\n",
        "        p_next = nn.functional.softmax(out / temperature, dim=-1).data.numpy()[0]\n",
        "        \n",
        "        # sample next token and push it back into x_sequence\n",
        "        # print(p_next.shape, TOKENS_LENGTH)\n",
        "        next_ix = np.random.choice(TOKENS_LENGTH, p=p_next)\n",
        "        next_ix = torch.tensor([[next_ix]], dtype=torch.int64)\n",
        "        # print(x_sequence.shape, next_ix.shape)\n",
        "        x_sequence = torch.cat([x_sequence, next_ix], dim=1)\n",
        "        \n",
        "    return ''.join([tokens[ix] for ix in x_sequence.data.numpy()[0]])"
      ],
      "execution_count": 18,
      "outputs": []
    },
    {
      "cell_type": "code",
      "metadata": {
        "id": "ZD2m5Ut8TmLd"
      },
      "source": [
        "# An example of generated text.\n",
        "# print(generate_text(length=500, temperature=0.2))"
      ],
      "execution_count": 19,
      "outputs": []
    },
    {
      "cell_type": "code",
      "metadata": {
        "id": "MDtcNAHKTmLd"
      },
      "source": [
        "def generate_poem(model, temperature=1.0, lines_count=15):\n",
        "    poem_lines = []\n",
        "    for i in range(lines_count):\n",
        "        poem_lines.append(generate_sample(model, temperature=temperature).strip())\n",
        "\n",
        "    poem = '\\n'.join(poem_lines)\n",
        "    print(poem)\n",
        "    return poem\n",
        "\n"
      ],
      "execution_count": 20,
      "outputs": []
    },
    {
      "cell_type": "code",
      "metadata": {
        "tags": [],
        "colab": {
          "base_uri": "https://localhost:8080/",
          "height": 338
        },
        "id": "mTBXxN4hTmLd",
        "outputId": "a051e2b4-c962-4737-88a5-5396fb131dbd"
      },
      "source": [
        "generate_poem(char_rnn, 0.9)\n"
      ],
      "execution_count": 21,
      "outputs": [
        {
          "output_type": "stream",
          "text": [
            "the am forn,\n",
            "live now reppaint:\n",
            "but wild sidie then links oo mess all-junderes a is the fory d\n",
            "whin i no sost chines day self reed i then bespeach see,\n",
            "the haif with and thousef goon'er you the lo deion's fort wore\n",
            "and new is theefons lose tile,--\n",
            "for hearks of dight but wich shich rencune cord,\n",
            "thy with all, a time vine's exvost in these for healt aw in\n",
            "! to my arten thee, bor cind?\n",
            "hat  in's lom net owing to thoo long the hammen inded decexing\n",
            "will orns'st, and lift the oot his sume see parged shell'ster\n",
            "but if should your you pieth share,\n",
            "the doth swarts that sto breep,\n",
            "to sume you a lust thens the ray dorbelf borthe, but wind,\n",
            "then my ored hom, i love reess land mure my loves, buther dete\n"
          ],
          "name": "stdout"
        },
        {
          "output_type": "execute_result",
          "data": {
            "application/vnd.google.colaboratory.intrinsic+json": {
              "type": "string"
            },
            "text/plain": [
              "\"the am forn,\\nlive now reppaint:\\nbut wild sidie then links oo mess all-junderes a is the fory d\\nwhin i no sost chines day self reed i then bespeach see,\\nthe haif with and thousef goon'er you the lo deion's fort wore\\nand new is theefons lose tile,--\\nfor hearks of dight but wich shich rencune cord,\\nthy with all, a time vine's exvost in these for healt aw in\\n! to my arten thee, bor cind?\\nhat  in's lom net owing to thoo long the hammen inded decexing\\nwill orns'st, and lift the oot his sume see parged shell'ster\\nbut if should your you pieth share,\\nthe doth swarts that sto breep,\\nto sume you a lust thens the ray dorbelf borthe, but wind,\\nthen my ored hom, i love reess land mure my loves, buther dete\""
            ]
          },
          "metadata": {
            "tags": []
          },
          "execution_count": 21
        }
      ]
    },
    {
      "cell_type": "markdown",
      "metadata": {
        "id": "E8Sfa1HpTmLh"
      },
      "source": [
        "### More poetic model\n",
        "\n",
        "Let's use LSTM instead of vanilla RNN and compare the results."
      ]
    },
    {
      "cell_type": "markdown",
      "metadata": {
        "id": "-zg2_gEeTmLh"
      },
      "source": [
        "Plot the loss function of the number of epochs. Does the final loss become better?"
      ]
    },
    {
      "cell_type": "code",
      "metadata": {
        "collapsed": true,
        "id": "B5pxgS5JTmLi"
      },
      "source": [
        "# Your beautiful code here\n",
        "\n",
        "class CharRNNLoop(nn.Module):\n",
        "    def __init__(self, num_tokens=len(tokens), embedding_size=LINE_MAX_LENGTH, rnn_num_units=STATE_LENGTH):\n",
        "        super(self.__class__, self).__init__()\n",
        "        self.num_units = rnn_num_units\n",
        "        self.embedding = nn.Embedding(num_tokens, embedding_size)\n",
        "        self.rnn = nn.LSTM(embedding_size, rnn_num_units, batch_first=True)\n",
        "        self.hid_to_logits = nn.Linear(rnn_num_units, num_tokens)\n",
        "\n",
        "    def forward(self, x):\n",
        "        x_emb = self.embedding(x)\n",
        "        h_seq, _ = self.rnn(x_emb)\n",
        "        next_logits = self.hid_to_logits(h_seq)\n",
        "        next_logp = nn.functional.log_softmax(next_logits, dim=-1)\n",
        "        return next_logp\n"
      ],
      "execution_count": 22,
      "outputs": []
    },
    {
      "cell_type": "code",
      "metadata": {
        "id": "DvyGwTQaTmLi"
      },
      "source": [
        "model = CharRNNLoop()\n",
        "opt = torch.optim.Adam(model.parameters())\n",
        "criterion = nn.NLLLoss()\n",
        "loss_history = []"
      ],
      "execution_count": 23,
      "outputs": []
    },
    {
      "cell_type": "code",
      "metadata": {
        "colab": {
          "base_uri": "https://localhost:8080/",
          "height": 315
        },
        "id": "NGACFFSiTmLi",
        "outputId": "48691f1c-5e43-4e98-dc58-ad48f811363a"
      },
      "source": [
        "model.train()\n",
        "\n",
        "for i in range(1000):\n",
        "    batch_ix = to_matrix(sample(text_lines, BATCH_LENGTH), max_len=LINE_MAX_LENGTH)\n",
        "    batch_ix = torch.tensor(batch_ix, dtype=torch.int64)\n",
        "\n",
        "    logp_seq = model(batch_ix)\n",
        "    prediction_logp = logp_seq[:, :-1]\n",
        "    actual_next_tokens = batch_ix[:, 1:]\n",
        "    loss = criterion(prediction_logp.contiguous().view(-1, TOKENS_LENGTH), actual_next_tokens.contiguous().view(-1))\n",
        "\n",
        "    loss.backward()\n",
        "    opt.step()\n",
        "    opt.zero_grad()\n",
        "\n",
        "    loss_item = loss.item()\n",
        "    loss_history.append(loss_item)\n",
        "    if (i+1)%10 == 0:\n",
        "        clear_output(True)\n",
        "        print('\\ni: {} Loss: {:.4f}\\n'.format(i, loss_item))\n",
        "\n",
        "        plt.plot(loss_history, label='loss')\n",
        "        plt.legend()\n",
        "        plt.show()"
      ],
      "execution_count": 24,
      "outputs": [
        {
          "output_type": "stream",
          "text": [
            "\n",
            "i: 999 Loss: 1.1333\n",
            "\n"
          ],
          "name": "stdout"
        },
        {
          "output_type": "display_data",
          "data": {
            "image/png": "[encoded data removed]",
            "text/plain": [
              "<Figure size 432x288 with 1 Axes>"
            ]
          },
          "metadata": {
            "tags": [],
            "needs_background": "light"
          }
        }
      ]
    },
    {
      "cell_type": "code",
      "metadata": {
        "id": "S9rwk8VrTmLj"
      },
      "source": [
        "def generate_sample_torch(rnn, seed_phrase=' ', max_length=LINE_MAX_LENGTH, temperature=1.0):\n",
        "    x_sequence = [token_to_idx[c] for c in seed_phrase]\n",
        "    x_sequence = torch.tensor([x_sequence], dtype=torch.int64)\n",
        "    \n",
        "    for i in range(1, len(seed_phrase)):\n",
        "        out = rnn(x_sequence)\n",
        "    \n",
        "    for _ in range(LINE_MAX_LENGTH - len(seed_phrase)):\n",
        "        out = rnn(x_sequence)\n",
        "        p_next = nn.functional.softmax(out / temperature, dim=-1).data.numpy()[0][-1]\n",
        "        \n",
        "        next_ix = np.random.choice(TOKENS_LENGTH, p=p_next)\n",
        "        next_ix = torch.tensor([[next_ix]], dtype=torch.int64)\n",
        "        x_sequence = torch.cat([x_sequence, next_ix], dim=1)\n",
        "        \n",
        "    return ''.join([tokens[ix] for ix in x_sequence.data.numpy()[0]])"
      ],
      "execution_count": 25,
      "outputs": []
    },
    {
      "cell_type": "code",
      "metadata": {
        "id": "7g2MaFSLTmLj"
      },
      "source": [
        "def generate_poem_torch(model, temperature=1.0, lines_count=15):\n",
        "    poem_lines = []\n",
        "    for i in range(lines_count):\n",
        "        poem_lines.append(generate_sample_torch(model, temperature=temperature).strip())\n",
        "\n",
        "    poem = '\\n'.join(poem_lines)\n",
        "    print(poem)\n",
        "    return poem"
      ],
      "execution_count": 26,
      "outputs": []
    },
    {
      "cell_type": "code",
      "metadata": {
        "colab": {
          "base_uri": "https://localhost:8080/",
          "height": 321
        },
        "id": "FI0Tva4OTmLj",
        "outputId": "3e38beb3-0af2-44e7-d710-5cfb2abbd620"
      },
      "source": [
        "model.eval()\n",
        "\n",
        "generate_poem_torch(model)"
      ],
      "execution_count": 27,
      "outputs": [
        {
          "output_type": "stream",
          "text": [
            "for'd the chan am row strease jreat,\n",
            "fale the no urittith, mine stroldss threispor?\n",
            "of i plenciot it mast yevirsing,\n",
            "is netger chaver of then tuee' thy som rays\n",
            "and thing it thous other saakel hight.\n",
            "and shear, in thith had jutsant more mowerings thebe\n",
            "conreiss to and formorned\n",
            "is if flengshing resprend,\n",
            "in the will in acqearpends, the singaght,\n",
            "yablong one as fainty ith gard,\n",
            "cxv\n",
            "and to mast i as gy foin,\n",
            "that boruth:\n",
            "cblanwos thine stok deat rovers?\n",
            "and phikent tuss thing encom benot love;\n"
          ],
          "name": "stdout"
        },
        {
          "output_type": "execute_result",
          "data": {
            "application/vnd.google.colaboratory.intrinsic+json": {
              "type": "string"
            },
            "text/plain": [
              "\"for'd the chan am row strease jreat,\\nfale the no urittith, mine stroldss threispor?\\nof i plenciot it mast yevirsing,\\nis netger chaver of then tuee' thy som rays\\nand thing it thous other saakel hight.\\nand shear, in thith had jutsant more mowerings thebe\\nconreiss to and formorned\\nis if flengshing resprend,\\nin the will in acqearpends, the singaght,\\nyablong one as fainty ith gard,\\ncxv\\nand to mast i as gy foin,\\nthat boruth:\\ncblanwos thine stok deat rovers?\\nand phikent tuss thing encom benot love;\""
            ]
          },
          "metadata": {
            "tags": []
          },
          "execution_count": 27
        }
      ]
    },
    {
      "cell_type": "markdown",
      "metadata": {
        "id": "vjcpRJGmTmLj"
      },
      "source": [
        "Generate text using the trained net with different `temperature` parameter: `[0.1, 0.2, 0.5, 1.0, 2.0]`.\n",
        "\n",
        "Evaluate the results visually, try to interpret them."
      ]
    },
    {
      "cell_type": "code",
      "metadata": {
        "collapsed": true,
        "colab": {
          "base_uri": "https://localhost:8080/"
        },
        "id": "tcRDf_UOTmLk",
        "outputId": "0b5078ac-4d35-4727-e899-38ff78fe3218"
      },
      "source": [
        "# Text generation with different temperature values here\n",
        "\n",
        "for temp in [0.1, 0.2, 0.5, 1.0, 2.0]:\n",
        "    print('TEMPERATURE=' + str(temp))\n",
        "    generate_poem_torch(model)"
      ],
      "execution_count": 28,
      "outputs": [
        {
          "output_type": "stream",
          "text": [
            "TEMPERATURE=0.1\n",
            "no not what with than hoking mosh, bless,\n",
            "ey hep, or thee thou, art withures me aiw so refvenst ow thow\n",
            "so reswase of withine, tho gride of expned't,\n",
            "ir netty fleanes mes. you theirllorsing;\n",
            "i nave whowery then doth mule haid tit;\n",
            "and with was, to greccksmod, and am  thoun,\n",
            "thy hown steecer, a conce thele dear trie:\n",
            "'in thee vinss the spenthing blow'\n",
            "men efine ong othon beth'st income?\n",
            "wher bearn thast hath stromitone:\n",
            "o! an  for thou tounqurt, all songee,\n",
            "male is thou accospee is to notwith,\n",
            "and 'vlile bleac wer' the whath deross somey,\n",
            "ince the beat stand my frow, fortare on my hany:\n",
            "whear prode than trus thon mus neich hickon wiad,\n",
            "TEMPERATURE=0.2\n",
            "which thy whinc out tire strime im farce\n",
            "for stilber enceing slov'd on chous, astan\n",
            "but me with live, tum to the deest,\n",
            "but thee alone, of make'd and my slets' thee;\n",
            "and soin-stright it the lad'st of ny,-\n",
            "ary fi love time,-:\n",
            "'por whenatuse thy beark, nool the thou waare:\n",
            "aray suppriont'st man allen hith shall.\n",
            "fourst aje your thy love:  of make'sting sweer.\n",
            "o  to that the porned exvexvine gure:.\n",
            "and beej'dr fair juir, book magged, and for'd dear,\n",
            "thow and adale mautys, is outh,\n",
            "lich, i say awere unbew'd lowind?\n",
            "or that give if enol shach boft but bot meed\n",
            "that ougerld seet ware; beautunted knet\n",
            "TEMPERATURE=0.5\n",
            "thou heart shethf be thou, in thou shulir he dorth;\n",
            "and im wher all lictaysp me to thinores,\n",
            "in thou holg tuor mesury of the with extrape.\n",
            "and in my sounds i! 'dongerights obrasd;\n",
            "and thou the tor, whier he pain tome fy the hasw?\n",
            "thy cople, is evermay stake those grase.\n",
            "my subruest that lith tume rine-divest--his ent\n",
            "that ethe wortim now be give's where.\n",
            "and knoth mm extiintapt-gren,\n",
            "xxx\n",
            "in i thou wich wi all of trees or evers;\n",
            "from eye, still wanded,\n",
            "shall gound's thou from wrincouine, whil deast feblioud,\n",
            "and so art yelfee, hbat my repont;\n",
            "niche spalokt repary sight my whon kraciing;\n",
            "TEMPERATURE=1.0\n",
            "hor, time pay thy svolt bet of alientrs sheet;\n",
            "thor comes of ques, no loth pasted in dearty covit:\n",
            "as tion much of dears day guest sill\n",
            "for this alone delowe at, ands buld kich swaye,\n",
            "o! ead i that stay muthind my more,\n",
            "what hut it beast thee shall dond sof comp now yor's\n",
            "in conitounr-ure you parndawiget,\n",
            "your thein thou prays be prite at)ouched praic;\n",
            "which, that gach, of of, ant byourpy for thisp\n",
            "wery of yo tich ske chan, ar tisho,\n",
            "or though thiseld everas falpening gut deint,\n",
            "is in that tive hast hus fair'd quare oun it,\n",
            "xfild for afit pruceg'st thy parven that.\n",
            "whicen of wost ol sworefued k'y gliisen,\n",
            "a thy losk foulk liose as not my be'd wil'd,\n",
            "TEMPERATURE=2.0\n",
            "i anu vil's the conting our's wormer,\n",
            "phtir drisengin thou shect fitl thibe euck gate.\n",
            "fellesparpengs bemial my ofpect;\n",
            "all me'd hath as dooth dear of the morn\n",
            "lovy you how i all mippossay lonod,\n",
            "you your as uyautety grover dast,\n",
            "ucisr thing tore steald and the the de.\n",
            "accorkso ghosest ol me amam quaghfure.\n",
            "nay confeet of that ever with heore.\n",
            "afos trute mor thin? aut my neaved sill\n",
            "sween curnst retirl wore by mo!th's beart.\n",
            "to vor all hom stantten a botn velt;\n",
            "i hcoouulbedoun turns of eye,\n",
            "se norn hain herouda githoulf'd as not this sound?\n",
            "ackelt of that that love's doth prove by sherfulight,\n"
          ],
          "name": "stdout"
        }
      ]
    },
    {
      "cell_type": "markdown",
      "metadata": {
        "id": "ftbjIMeDTmLk"
      },
      "source": [
        "### Saving and loading models"
      ]
    },
    {
      "cell_type": "markdown",
      "metadata": {
        "id": "GyDfmENXTmLk"
      },
      "source": [
        "Save the model to the disk, then load it and generate text. Examples are available [here](https://pytorch.org/tutorials/beginner/saving_loading_models.html])."
      ]
    },
    {
      "cell_type": "code",
      "metadata": {
        "collapsed": true,
        "colab": {
          "base_uri": "https://localhost:8080/",
          "height": 338
        },
        "id": "JZfw5p5RTmLk",
        "outputId": "43861e89-1dab-48d5-e10f-b89845fba1f3"
      },
      "source": [
        "# Saving and loading code here\n",
        "\n",
        "MODEL_STATE_PATH = 'trained_model'\n",
        "torch.save(model.state_dict(), MODEL_STATE_PATH)\n",
        "\n",
        "new_model = CharRNNLoop()\n",
        "new_model.load_state_dict(torch.load(MODEL_STATE_PATH))\n",
        "new_model.eval()\n",
        "\n",
        "generate_poem_torch(new_model)"
      ],
      "execution_count": 29,
      "outputs": [
        {
          "output_type": "stream",
          "text": [
            "save theal as acfourusiges eyer;\n",
            "wids flie rath soms so are im have tide anning\n",
            "and of this tha caillon dews, and ere thees is-idnfv?\n",
            "uline worght those shitk, no fainter forliom,\n",
            "and thou the blidgs in to lief in thy.\n",
            "ver, not thy pots startit with cive moll.\n",
            "that houbgut fouln of my in wost be minift;?\n",
            "for weeds il make kis spall that lie,\n",
            "pankuse welf graicys mote lapore seal'd\n",
            "thut whenteous barse for not heart to loves,\n",
            "hagk knows the main'd on of with neads,\n",
            "he nery made this treemoned;\n",
            "liching cove amn ip me m! lxvees did,\n",
            "mo!t nathight thought doud my stande say:\n",
            "thou doursem there-doth thigh a chatk, not deey,\n"
          ],
          "name": "stdout"
        },
        {
          "output_type": "execute_result",
          "data": {
            "application/vnd.google.colaboratory.intrinsic+json": {
              "type": "string"
            },
            "text/plain": [
              "\"save theal as acfourusiges eyer;\\nwids flie rath soms so are im have tide anning\\nand of this tha caillon dews, and ere thees is-idnfv?\\nuline worght those shitk, no fainter forliom,\\nand thou the blidgs in to lief in thy.\\nver, not thy pots startit with cive moll.\\nthat houbgut fouln of my in wost be minift;?\\nfor weeds il make kis spall that lie,\\npankuse welf graicys mote lapore seal'd\\nthut whenteous barse for not heart to loves,\\nhagk knows the main'd on of with neads,\\nhe nery made this treemoned;\\nliching cove amn ip me m! lxvees did,\\nmo!t nathight thought doud my stande say:\\nthou doursem there-doth thigh a chatk, not deey,\""
            ]
          },
          "metadata": {
            "tags": []
          },
          "execution_count": 29
        }
      ]
    },
    {
      "cell_type": "markdown",
      "metadata": {
        "id": "hjKtf2oVTmLk"
      },
      "source": [
        "### References\n",
        "1. <a href='http://karpathy.github.io/2015/05/21/rnn-effectiveness/'> Andrew Karpathy blog post about RNN. </a> \n",
        "There are several examples of genration: Shakespeare texts, Latex formulas, Linux Sourse Code and children names.\n",
        "2. <a href='https://github.com/karpathy/char-rnn'> Repo with char-rnn code </a>\n",
        "3. Cool repo with PyTorch examples: [link](https://github.com/spro/practical-pytorch`)"
      ]
    }
  ]
}